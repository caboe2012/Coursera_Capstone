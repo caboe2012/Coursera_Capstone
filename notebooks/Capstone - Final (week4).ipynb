{
 "cells": [
  {
   "cell_type": "markdown",
   "metadata": {},
   "source": [
    "# Coursera - IBM Data Science Professional Certification - Week4\n"
   ]
  },
  {
   "cell_type": "markdown",
   "metadata": {},
   "source": [
    "### Import Modules to run analysis"
   ]
  },
  {
   "cell_type": "code",
   "execution_count": 1,
   "metadata": {
    "collapsed": true
   },
   "outputs": [],
   "source": [
    "import requests\n",
    "from bs4 import BeautifulSoup as bs\n",
    "\n",
    "import json # library to handle JSON files\n",
    "\n",
    "import numpy as np\n",
    "import pandas as pd\n",
    "pd.set_option('display.max_columns', None)\n",
    "pd.set_option('display.max_rows', None)\n",
    "from pandas.io.json import json_normalize # tranform JSON file into a pandas dataframe\n",
    "\n",
    "from geopy.geocoders import Nominatim # convert an address into latitude and longitude values\n",
    "\n",
    "import geocoder\n",
    "\n",
    "# Matplotlib and associated plotting modules\n",
    "import matplotlib.cm as cm\n",
    "import matplotlib.colors as colors\n",
    "\n",
    "from sklearn.cluster import KMeans\n",
    "\n",
    "import folium # map rendering library\n",
    "\n",
    "import warnings\n",
    "warnings.filterwarnings(\"ignore\")"
   ]
  },
  {
   "cell_type": "markdown",
   "metadata": {},
   "source": [
    "## A description of the problem and a discussion of the background."
   ]
  },
  {
   "cell_type": "markdown",
   "metadata": {},
   "source": [
    "In San Diego, California, a client has hired your firm to help them identify in which neighbourhood they should open the 2nd location of their very successful French Restaurant.  \n",
    "\n",
    "The client has indicated they are happy with the success they have found in the neighbourhood of Nork Park and that they would like to open their 2nd location in the neighbourhood that is the most similar to North Park.  There are over 100 neighbourhoods in San Diego, so choosing which neighbourhood is the most simliar won't be easy. "
   ]
  },
  {
   "cell_type": "markdown",
   "metadata": {},
   "source": [
    "## A description of the data"
   ]
  },
  {
   "cell_type": "markdown",
   "metadata": {},
   "source": [
    "The following wikipage contains a list of all of over 100 neighbourhoods in San Diego, with links to wikipages for just about all of them.  \n",
    "\n",
    "https://en.wikipedia.org/wiki/List_of_communities_and_neighborhoods_of_San_Diego\n",
    "\n",
    "This list of neighborhoods will be used to create a table of latitude and longitude coordinates for each neighborhood either by scraping the coordinates from the respective wikipage about the neighborhood or by using the Nominatum package in python.  \n",
    "\n",
    "These latitude and longidue coordinates will be used to obtain the Foursqaure API data about the venue types in each neighborhood.  This foursquare API data about the venues and venue categories awill be used to identify which neighborhoods are the most similar to North Park.\n",
    "\n",
    "An example of how the data will be used is outlined below, by grabbing the relevant data for the neighborhood of North Park."
   ]
  },
  {
   "cell_type": "markdown",
   "metadata": {},
   "source": [
    "### Functions to complete the analysis"
   ]
  },
  {
   "cell_type": "code",
   "execution_count": 2,
   "metadata": {
    "collapsed": true
   },
   "outputs": [],
   "source": [
    "def getNearbyVenues(names, latitudes, longitudes, radius=500):\n",
    "    \n",
    "    venues_list=[]\n",
    "    for name, lat, lng in zip(names, latitudes, longitudes):\n",
    "        print(name)\n",
    "        \n",
    "        # create the API request URL\n",
    "        url = 'https://api.foursquare.com/v2/venues/explore?&client_id={}&client_secret={}&v={}&ll={},{}&radius={}&limit={}'.format(\n",
    "            CLIENT_ID, \n",
    "            CLIENT_SECRET, \n",
    "            VERSION, \n",
    "            lat, \n",
    "            lng, \n",
    "            radius, \n",
    "            LIMIT)\n",
    "            \n",
    "        # make the GET request\n",
    "        results = requests.get(url).json()[\"response\"]['groups'][0]['items']\n",
    "        \n",
    "        # return only relevant information for each nearby venue\n",
    "        venues_list.append([(\n",
    "            name, \n",
    "            lat, \n",
    "            lng, \n",
    "            v['venue']['name'], \n",
    "            v['venue']['location']['lat'], \n",
    "            v['venue']['location']['lng'],  \n",
    "            v['venue']['categories'][0]['name']) for v in results])\n",
    "\n",
    "    nearby_venues = pd.DataFrame([item for venue_list in venues_list for item in venue_list])\n",
    "    nearby_venues.columns = ['Neighborhoods', \n",
    "                  'Neighborhood Latitude', \n",
    "                  'Neighborhood Longitude', \n",
    "                  'Venue', \n",
    "                  'Venue Latitude', \n",
    "                  'Venue Longitude', \n",
    "                  'Venue Category']\n",
    "    \n",
    "    return(nearby_venues)"
   ]
  },
  {
   "cell_type": "code",
   "execution_count": 4,
   "metadata": {
    "collapsed": true
   },
   "outputs": [],
   "source": [
    "# function to get the lat/long of each neighborhood\n",
    "def get_lat_long(address):\n",
    "    geolocator = Nominatim()\n",
    "    location = geolocator.geocode(address)\n",
    "    latitude = location.latitude\n",
    "    longitude = location.longitude\n",
    "#    print(latitude, longitude)\n",
    "    return latitude, longitude"
   ]
  },
  {
   "cell_type": "code",
   "execution_count": 14,
   "metadata": {
    "collapsed": true
   },
   "outputs": [],
   "source": [
    "# function that extracts the category of the venue\n",
    "def get_category_type(row):\n",
    "    try:\n",
    "        categories_list = row['categories']\n",
    "    except:\n",
    "        categories_list = row['venue.categories']\n",
    "        \n",
    "    if len(categories_list) == 0:\n",
    "        return None\n",
    "    else:\n",
    "        return categories_list[0]['name']"
   ]
  },
  {
   "cell_type": "markdown",
   "metadata": {},
   "source": [
    "### Foursquare credentials"
   ]
  },
  {
   "cell_type": "code",
   "execution_count": 3,
   "metadata": {
    "collapsed": false
   },
   "outputs": [
    {
     "name": "stdout",
     "output_type": "stream",
     "text": [
      "Your credentails:\n",
      "CLIENT_ID: 42R2YOP4MTNEEGBLCFEBVLKE1S1EFC5AUWUIS45M3Q4Y00SK\n",
      "CLIENT_SECRET:X4THSP32AF2EVUC4M4O2IP3KYLKSF2WHW5BNKSQM4GYBF2N1\n"
     ]
    }
   ],
   "source": [
    "CLIENT_ID = 'your_client_id_here' # your Foursquare ID\n",
    "CLIENT_SECRET = 'your_client_secret_here' # your Foursquare Secret\n",
    "VERSION = '20180604'\n",
    "#LIMIT = 30\n",
    "print('Your credentails:')\n",
    "print('CLIENT_ID: ' + CLIENT_ID)\n",
    "print('CLIENT_SECRET:' + CLIENT_SECRET)"
   ]
  },
  {
   "cell_type": "markdown",
   "metadata": {},
   "source": [
    "### We are looking to find the neighborhood that is the most similar to North Park according to the venue information contained in the Foursquare API venue data.\n",
    "1.  Start by getting the latitude and longitude of North Park to be used as input into the Foursquare API"
   ]
  },
  {
   "cell_type": "code",
   "execution_count": 5,
   "metadata": {
    "collapsed": false
   },
   "outputs": [],
   "source": [
    "address = \"North Park, San Diego, CA\"\n",
    "neighborhood_latitude, neighborhood_longitude, = get_lat_long(address)"
   ]
  },
  {
   "cell_type": "markdown",
   "metadata": {},
   "source": [
    "#### Gather the category information about each venue in North Park, within 500 meters of the neighborhoods lat/long"
   ]
  },
  {
   "cell_type": "code",
   "execution_count": 6,
   "metadata": {
    "collapsed": false
   },
   "outputs": [
    {
     "data": {
      "text/plain": [
       "'https://api.foursquare.com/v2/venues/explore?&client_id=42R2YOP4MTNEEGBLCFEBVLKE1S1EFC5AUWUIS45M3Q4Y00SK&client_secret=X4THSP32AF2EVUC4M4O2IP3KYLKSF2WHW5BNKSQM4GYBF2N1&v=20180604&ll=32.7408842,-117.1305877&radius=500&limit=100'"
      ]
     },
     "execution_count": 6,
     "metadata": {},
     "output_type": "execute_result"
    }
   ],
   "source": [
    "LIMIT = 100 # limit of number of venues returned by Foursquare API\n",
    "radius = 500 # define radius\n",
    "# create URL\n",
    "url = 'https://api.foursquare.com/v2/venues/explore?&client_id={}&client_secret={}&v={}&ll={},{}&radius={}&limit={}'.format(\n",
    "    CLIENT_ID, \n",
    "    CLIENT_SECRET, \n",
    "    VERSION, \n",
    "    neighborhood_latitude, \n",
    "    neighborhood_longitude, \n",
    "    radius, \n",
    "    LIMIT)\n",
    "url # display URL"
   ]
  },
  {
   "cell_type": "markdown",
   "metadata": {},
   "source": [
    "### Convert the JSON results of the North Park venue category data to a DataFrame"
   ]
  },
  {
   "cell_type": "code",
   "execution_count": 22,
   "metadata": {
    "collapsed": false
   },
   "outputs": [
    {
     "name": "stdout",
     "output_type": "stream",
     "text": [
      "(24, 28)\n"
     ]
    },
    {
     "data": {
      "text/html": [
       "<div>\n",
       "<table border=\"1\" class=\"dataframe\">\n",
       "  <thead>\n",
       "    <tr style=\"text-align: right;\">\n",
       "      <th></th>\n",
       "      <th>reasons.count</th>\n",
       "      <th>reasons.items</th>\n",
       "      <th>referralId</th>\n",
       "      <th>venue.categories</th>\n",
       "      <th>venue.delivery.id</th>\n",
       "      <th>venue.delivery.provider.icon.name</th>\n",
       "      <th>venue.delivery.provider.icon.prefix</th>\n",
       "      <th>venue.delivery.provider.icon.sizes</th>\n",
       "      <th>venue.delivery.provider.name</th>\n",
       "      <th>venue.delivery.url</th>\n",
       "      <th>venue.id</th>\n",
       "      <th>venue.location.address</th>\n",
       "      <th>venue.location.cc</th>\n",
       "      <th>venue.location.city</th>\n",
       "      <th>venue.location.country</th>\n",
       "      <th>venue.location.crossStreet</th>\n",
       "      <th>venue.location.distance</th>\n",
       "      <th>venue.location.formattedAddress</th>\n",
       "      <th>venue.location.labeledLatLngs</th>\n",
       "      <th>venue.location.lat</th>\n",
       "      <th>venue.location.lng</th>\n",
       "      <th>venue.location.neighborhood</th>\n",
       "      <th>venue.location.postalCode</th>\n",
       "      <th>venue.location.state</th>\n",
       "      <th>venue.name</th>\n",
       "      <th>venue.photos.count</th>\n",
       "      <th>venue.photos.groups</th>\n",
       "      <th>venue.venuePage.id</th>\n",
       "    </tr>\n",
       "  </thead>\n",
       "  <tbody>\n",
       "    <tr>\n",
       "      <th>0</th>\n",
       "      <td>0</td>\n",
       "      <td>[{'reasonName': 'globalInteractionReason', 'ty...</td>\n",
       "      <td>e-0-56391bfacd105fac6c403c63-0</td>\n",
       "      <td>[{'primary': True, 'id': '4bf58dd8d48988d1ce94...</td>\n",
       "      <td>NaN</td>\n",
       "      <td>NaN</td>\n",
       "      <td>NaN</td>\n",
       "      <td>NaN</td>\n",
       "      <td>NaN</td>\n",
       "      <td>NaN</td>\n",
       "      <td>56391bfacd105fac6c403c63</td>\n",
       "      <td>3382 30th St</td>\n",
       "      <td>US</td>\n",
       "      <td>San Diego</td>\n",
       "      <td>United States</td>\n",
       "      <td>NaN</td>\n",
       "      <td>117</td>\n",
       "      <td>[3382 30th St, San Diego, CA 92104, United Sta...</td>\n",
       "      <td>[{'label': 'display', 'lng': -117.129334340072...</td>\n",
       "      <td>32.740871</td>\n",
       "      <td>-117.129334</td>\n",
       "      <td>NaN</td>\n",
       "      <td>92104</td>\n",
       "      <td>CA</td>\n",
       "      <td>Pete's Seafood &amp; Sandwich</td>\n",
       "      <td>0</td>\n",
       "      <td>[]</td>\n",
       "      <td>NaN</td>\n",
       "    </tr>\n",
       "    <tr>\n",
       "      <th>1</th>\n",
       "      <td>0</td>\n",
       "      <td>[{'reasonName': 'globalInteractionReason', 'ty...</td>\n",
       "      <td>e-0-536add8e11d21c7853ef0883-1</td>\n",
       "      <td>[{'primary': True, 'id': '50327c8591d4c4b30a58...</td>\n",
       "      <td>NaN</td>\n",
       "      <td>NaN</td>\n",
       "      <td>NaN</td>\n",
       "      <td>NaN</td>\n",
       "      <td>NaN</td>\n",
       "      <td>NaN</td>\n",
       "      <td>536add8e11d21c7853ef0883</td>\n",
       "      <td>3000 Upas St</td>\n",
       "      <td>US</td>\n",
       "      <td>San Diego</td>\n",
       "      <td>United States</td>\n",
       "      <td>at 30th St</td>\n",
       "      <td>91</td>\n",
       "      <td>[3000 Upas St (at 30th St), San Diego, CA 9210...</td>\n",
       "      <td>[{'label': 'display', 'lng': -117.129948735237...</td>\n",
       "      <td>32.741511</td>\n",
       "      <td>-117.129949</td>\n",
       "      <td>North Park, San Diego, CA</td>\n",
       "      <td>92104</td>\n",
       "      <td>CA</td>\n",
       "      <td>Modern Times Flavordome</td>\n",
       "      <td>0</td>\n",
       "      <td>[]</td>\n",
       "      <td>NaN</td>\n",
       "    </tr>\n",
       "    <tr>\n",
       "      <th>2</th>\n",
       "      <td>0</td>\n",
       "      <td>[{'reasonName': 'globalInteractionReason', 'ty...</td>\n",
       "      <td>e-0-577d9c47498e861ea1dbf937-2</td>\n",
       "      <td>[{'primary': True, 'id': '4bf58dd8d48988d16c94...</td>\n",
       "      <td>NaN</td>\n",
       "      <td>NaN</td>\n",
       "      <td>NaN</td>\n",
       "      <td>NaN</td>\n",
       "      <td>NaN</td>\n",
       "      <td>NaN</td>\n",
       "      <td>577d9c47498e861ea1dbf937</td>\n",
       "      <td>3501 30th St</td>\n",
       "      <td>US</td>\n",
       "      <td>San Diego</td>\n",
       "      <td>United States</td>\n",
       "      <td>Myrtle Ave</td>\n",
       "      <td>165</td>\n",
       "      <td>[3501 30th St (Myrtle Ave), San Diego, CA 9210...</td>\n",
       "      <td>[{'label': 'display', 'lng': -117.129959960439...</td>\n",
       "      <td>32.742278</td>\n",
       "      <td>-117.129960</td>\n",
       "      <td>NaN</td>\n",
       "      <td>92104</td>\n",
       "      <td>CA</td>\n",
       "      <td>Dunedin North Park</td>\n",
       "      <td>0</td>\n",
       "      <td>[]</td>\n",
       "      <td>NaN</td>\n",
       "    </tr>\n",
       "    <tr>\n",
       "      <th>3</th>\n",
       "      <td>0</td>\n",
       "      <td>[{'reasonName': 'globalInteractionReason', 'ty...</td>\n",
       "      <td>e-0-480262c5f964a520f14e1fe3-3</td>\n",
       "      <td>[{'primary': True, 'id': '4bf58dd8d48988d1ca94...</td>\n",
       "      <td>NaN</td>\n",
       "      <td>NaN</td>\n",
       "      <td>NaN</td>\n",
       "      <td>NaN</td>\n",
       "      <td>NaN</td>\n",
       "      <td>NaN</td>\n",
       "      <td>480262c5f964a520f14e1fe3</td>\n",
       "      <td>3448 30th St</td>\n",
       "      <td>US</td>\n",
       "      <td>San Diego</td>\n",
       "      <td>United States</td>\n",
       "      <td>at Myrtle Ave</td>\n",
       "      <td>130</td>\n",
       "      <td>[3448 30th St (at Myrtle Ave), San Diego, CA 9...</td>\n",
       "      <td>[{'label': 'display', 'lng': -117.130176723003...</td>\n",
       "      <td>32.742005</td>\n",
       "      <td>-117.130177</td>\n",
       "      <td>NaN</td>\n",
       "      <td>92104</td>\n",
       "      <td>CA</td>\n",
       "      <td>Lefty's Chicago Pizzeria</td>\n",
       "      <td>0</td>\n",
       "      <td>[]</td>\n",
       "      <td>NaN</td>\n",
       "    </tr>\n",
       "    <tr>\n",
       "      <th>4</th>\n",
       "      <td>0</td>\n",
       "      <td>[{'reasonName': 'globalInteractionReason', 'ty...</td>\n",
       "      <td>e-0-4b8348aef964a520b00031e3-4</td>\n",
       "      <td>[{'primary': True, 'id': '4bf58dd8d48988d10c94...</td>\n",
       "      <td>NaN</td>\n",
       "      <td>NaN</td>\n",
       "      <td>NaN</td>\n",
       "      <td>NaN</td>\n",
       "      <td>NaN</td>\n",
       "      <td>NaN</td>\n",
       "      <td>4b8348aef964a520b00031e3</td>\n",
       "      <td>3408 30th St</td>\n",
       "      <td>US</td>\n",
       "      <td>San Diego</td>\n",
       "      <td>United States</td>\n",
       "      <td>Upas</td>\n",
       "      <td>66</td>\n",
       "      <td>[3408 30th St (Upas), San Diego, CA 92104, Uni...</td>\n",
       "      <td>[{'label': 'display', 'lng': -117.130247645030...</td>\n",
       "      <td>32.741409</td>\n",
       "      <td>-117.130248</td>\n",
       "      <td>NaN</td>\n",
       "      <td>92104</td>\n",
       "      <td>CA</td>\n",
       "      <td>The Smoking Goat</td>\n",
       "      <td>0</td>\n",
       "      <td>[]</td>\n",
       "      <td>NaN</td>\n",
       "    </tr>\n",
       "  </tbody>\n",
       "</table>\n",
       "</div>"
      ],
      "text/plain": [
       "   reasons.count                                      reasons.items  \\\n",
       "0              0  [{'reasonName': 'globalInteractionReason', 'ty...   \n",
       "1              0  [{'reasonName': 'globalInteractionReason', 'ty...   \n",
       "2              0  [{'reasonName': 'globalInteractionReason', 'ty...   \n",
       "3              0  [{'reasonName': 'globalInteractionReason', 'ty...   \n",
       "4              0  [{'reasonName': 'globalInteractionReason', 'ty...   \n",
       "\n",
       "                       referralId  \\\n",
       "0  e-0-56391bfacd105fac6c403c63-0   \n",
       "1  e-0-536add8e11d21c7853ef0883-1   \n",
       "2  e-0-577d9c47498e861ea1dbf937-2   \n",
       "3  e-0-480262c5f964a520f14e1fe3-3   \n",
       "4  e-0-4b8348aef964a520b00031e3-4   \n",
       "\n",
       "                                    venue.categories venue.delivery.id  \\\n",
       "0  [{'primary': True, 'id': '4bf58dd8d48988d1ce94...               NaN   \n",
       "1  [{'primary': True, 'id': '50327c8591d4c4b30a58...               NaN   \n",
       "2  [{'primary': True, 'id': '4bf58dd8d48988d16c94...               NaN   \n",
       "3  [{'primary': True, 'id': '4bf58dd8d48988d1ca94...               NaN   \n",
       "4  [{'primary': True, 'id': '4bf58dd8d48988d10c94...               NaN   \n",
       "\n",
       "  venue.delivery.provider.icon.name venue.delivery.provider.icon.prefix  \\\n",
       "0                               NaN                                 NaN   \n",
       "1                               NaN                                 NaN   \n",
       "2                               NaN                                 NaN   \n",
       "3                               NaN                                 NaN   \n",
       "4                               NaN                                 NaN   \n",
       "\n",
       "  venue.delivery.provider.icon.sizes venue.delivery.provider.name  \\\n",
       "0                                NaN                          NaN   \n",
       "1                                NaN                          NaN   \n",
       "2                                NaN                          NaN   \n",
       "3                                NaN                          NaN   \n",
       "4                                NaN                          NaN   \n",
       "\n",
       "  venue.delivery.url                  venue.id venue.location.address  \\\n",
       "0                NaN  56391bfacd105fac6c403c63           3382 30th St   \n",
       "1                NaN  536add8e11d21c7853ef0883           3000 Upas St   \n",
       "2                NaN  577d9c47498e861ea1dbf937           3501 30th St   \n",
       "3                NaN  480262c5f964a520f14e1fe3           3448 30th St   \n",
       "4                NaN  4b8348aef964a520b00031e3           3408 30th St   \n",
       "\n",
       "  venue.location.cc venue.location.city venue.location.country  \\\n",
       "0                US           San Diego          United States   \n",
       "1                US           San Diego          United States   \n",
       "2                US           San Diego          United States   \n",
       "3                US           San Diego          United States   \n",
       "4                US           San Diego          United States   \n",
       "\n",
       "  venue.location.crossStreet  venue.location.distance  \\\n",
       "0                        NaN                      117   \n",
       "1                 at 30th St                       91   \n",
       "2                 Myrtle Ave                      165   \n",
       "3              at Myrtle Ave                      130   \n",
       "4                       Upas                       66   \n",
       "\n",
       "                     venue.location.formattedAddress  \\\n",
       "0  [3382 30th St, San Diego, CA 92104, United Sta...   \n",
       "1  [3000 Upas St (at 30th St), San Diego, CA 9210...   \n",
       "2  [3501 30th St (Myrtle Ave), San Diego, CA 9210...   \n",
       "3  [3448 30th St (at Myrtle Ave), San Diego, CA 9...   \n",
       "4  [3408 30th St (Upas), San Diego, CA 92104, Uni...   \n",
       "\n",
       "                       venue.location.labeledLatLngs  venue.location.lat  \\\n",
       "0  [{'label': 'display', 'lng': -117.129334340072...           32.740871   \n",
       "1  [{'label': 'display', 'lng': -117.129948735237...           32.741511   \n",
       "2  [{'label': 'display', 'lng': -117.129959960439...           32.742278   \n",
       "3  [{'label': 'display', 'lng': -117.130176723003...           32.742005   \n",
       "4  [{'label': 'display', 'lng': -117.130247645030...           32.741409   \n",
       "\n",
       "   venue.location.lng venue.location.neighborhood venue.location.postalCode  \\\n",
       "0         -117.129334                         NaN                     92104   \n",
       "1         -117.129949   North Park, San Diego, CA                     92104   \n",
       "2         -117.129960                         NaN                     92104   \n",
       "3         -117.130177                         NaN                     92104   \n",
       "4         -117.130248                         NaN                     92104   \n",
       "\n",
       "  venue.location.state                 venue.name  venue.photos.count  \\\n",
       "0                   CA  Pete's Seafood & Sandwich                   0   \n",
       "1                   CA    Modern Times Flavordome                   0   \n",
       "2                   CA         Dunedin North Park                   0   \n",
       "3                   CA   Lefty's Chicago Pizzeria                   0   \n",
       "4                   CA           The Smoking Goat                   0   \n",
       "\n",
       "  venue.photos.groups venue.venuePage.id  \n",
       "0                  []                NaN  \n",
       "1                  []                NaN  \n",
       "2                  []                NaN  \n",
       "3                  []                NaN  \n",
       "4                  []                NaN  "
      ]
     },
     "execution_count": 22,
     "metadata": {},
     "output_type": "execute_result"
    }
   ],
   "source": [
    "results = requests.get(url).json()\n",
    "#results.keys()\n",
    "venues = results['response']['groups'][0]['items']\n",
    "nearby_venues = json_normalize(venues) # flatten JSON\n",
    "print(nearby_venues.shape)\n",
    "nearby_venues.head()"
   ]
  },
  {
   "cell_type": "markdown",
   "metadata": {},
   "source": [
    "### Grab only the relevant data"
   ]
  },
  {
   "cell_type": "code",
   "execution_count": 12,
   "metadata": {
    "collapsed": false
   },
   "outputs": [
    {
     "data": {
      "text/plain": [
       "(24, 4)"
      ]
     },
     "execution_count": 12,
     "metadata": {},
     "output_type": "execute_result"
    }
   ],
   "source": [
    "# filter columns\n",
    "filtered_columns = ['venue.name', 'venue.categories', 'venue.location.lat', 'venue.location.lng']\n",
    "nearby_venues =nearby_venues.loc[:, filtered_columns]\n",
    "nearby_venues.shape"
   ]
  },
  {
   "cell_type": "code",
   "execution_count": 15,
   "metadata": {
    "collapsed": false
   },
   "outputs": [],
   "source": [
    "nearby_venues['venue.categories'] = nearby_venues.apply(get_category_type, axis=1)"
   ]
  },
  {
   "cell_type": "code",
   "execution_count": 16,
   "metadata": {
    "collapsed": true
   },
   "outputs": [],
   "source": [
    "nearby_venues.columns = [col.split(\".\")[-1] for col in nearby_venues.columns]"
   ]
  },
  {
   "cell_type": "markdown",
   "metadata": {},
   "source": [
    "### Take a look at the first few rows of cleaned up North Park venue data "
   ]
  },
  {
   "cell_type": "code",
   "execution_count": 17,
   "metadata": {
    "collapsed": false
   },
   "outputs": [
    {
     "data": {
      "text/html": [
       "<div>\n",
       "<table border=\"1\" class=\"dataframe\">\n",
       "  <thead>\n",
       "    <tr style=\"text-align: right;\">\n",
       "      <th></th>\n",
       "      <th>name</th>\n",
       "      <th>categories</th>\n",
       "      <th>lat</th>\n",
       "      <th>lng</th>\n",
       "    </tr>\n",
       "  </thead>\n",
       "  <tbody>\n",
       "    <tr>\n",
       "      <th>0</th>\n",
       "      <td>Pete's Seafood &amp; Sandwich</td>\n",
       "      <td>Seafood Restaurant</td>\n",
       "      <td>32.740871</td>\n",
       "      <td>-117.129334</td>\n",
       "    </tr>\n",
       "    <tr>\n",
       "      <th>1</th>\n",
       "      <td>Modern Times Flavordome</td>\n",
       "      <td>Brewery</td>\n",
       "      <td>32.741511</td>\n",
       "      <td>-117.129949</td>\n",
       "    </tr>\n",
       "    <tr>\n",
       "      <th>2</th>\n",
       "      <td>Dunedin North Park</td>\n",
       "      <td>Burger Joint</td>\n",
       "      <td>32.742278</td>\n",
       "      <td>-117.129960</td>\n",
       "    </tr>\n",
       "    <tr>\n",
       "      <th>3</th>\n",
       "      <td>Lefty's Chicago Pizzeria</td>\n",
       "      <td>Pizza Place</td>\n",
       "      <td>32.742005</td>\n",
       "      <td>-117.130177</td>\n",
       "    </tr>\n",
       "    <tr>\n",
       "      <th>4</th>\n",
       "      <td>The Smoking Goat</td>\n",
       "      <td>French Restaurant</td>\n",
       "      <td>32.741409</td>\n",
       "      <td>-117.130248</td>\n",
       "    </tr>\n",
       "  </tbody>\n",
       "</table>\n",
       "</div>"
      ],
      "text/plain": [
       "                        name          categories        lat         lng\n",
       "0  Pete's Seafood & Sandwich  Seafood Restaurant  32.740871 -117.129334\n",
       "1    Modern Times Flavordome             Brewery  32.741511 -117.129949\n",
       "2         Dunedin North Park        Burger Joint  32.742278 -117.129960\n",
       "3   Lefty's Chicago Pizzeria         Pizza Place  32.742005 -117.130177\n",
       "4           The Smoking Goat   French Restaurant  32.741409 -117.130248"
      ]
     },
     "execution_count": 17,
     "metadata": {},
     "output_type": "execute_result"
    }
   ],
   "source": [
    "nearby_venues.head()"
   ]
  },
  {
   "cell_type": "markdown",
   "metadata": {},
   "source": [
    "### Take a quick look at the category breakdown for North Park"
   ]
  },
  {
   "cell_type": "code",
   "execution_count": 18,
   "metadata": {
    "collapsed": false
   },
   "outputs": [
    {
     "data": {
      "text/plain": [
       "Café                       3\n",
       "Italian Restaurant         2\n",
       "Thai Restaurant            2\n",
       "French Restaurant          1\n",
       "Seafood Restaurant         1\n",
       "Breakfast Spot             1\n",
       "Flower Shop                1\n",
       "Taco Place                 1\n",
       "Coffee Shop                1\n",
       "Noodle House               1\n",
       "Burger Joint               1\n",
       "Brewery                    1\n",
       "Pizza Place                1\n",
       "Liquor Store               1\n",
       "Park                       1\n",
       "Antique Shop               1\n",
       "Fast Food Restaurant       1\n",
       "New American Restaurant    1\n",
       "Lounge                     1\n",
       "Pet Store                  1\n",
       "Name: categories, dtype: int64"
      ]
     },
     "execution_count": 18,
     "metadata": {},
     "output_type": "execute_result"
    }
   ],
   "source": [
    "nearby_venues['categories'].value_counts()"
   ]
  },
  {
   "cell_type": "markdown",
   "metadata": {},
   "source": [
    "### One hot encode the the Venue Categories for North Park"
   ]
  },
  {
   "cell_type": "code",
   "execution_count": 21,
   "metadata": {
    "collapsed": false
   },
   "outputs": [
    {
     "name": "stdout",
     "output_type": "stream",
     "text": [
      "(24, 21)\n"
     ]
    },
    {
     "data": {
      "text/html": [
       "<div>\n",
       "<table border=\"1\" class=\"dataframe\">\n",
       "  <thead>\n",
       "    <tr style=\"text-align: right;\">\n",
       "      <th></th>\n",
       "      <th>Neighborhood</th>\n",
       "      <th>Antique Shop</th>\n",
       "      <th>Breakfast Spot</th>\n",
       "      <th>Brewery</th>\n",
       "      <th>Burger Joint</th>\n",
       "      <th>Café</th>\n",
       "      <th>Coffee Shop</th>\n",
       "      <th>Fast Food Restaurant</th>\n",
       "      <th>Flower Shop</th>\n",
       "      <th>French Restaurant</th>\n",
       "      <th>Italian Restaurant</th>\n",
       "      <th>Liquor Store</th>\n",
       "      <th>Lounge</th>\n",
       "      <th>New American Restaurant</th>\n",
       "      <th>Noodle House</th>\n",
       "      <th>Park</th>\n",
       "      <th>Pet Store</th>\n",
       "      <th>Pizza Place</th>\n",
       "      <th>Seafood Restaurant</th>\n",
       "      <th>Taco Place</th>\n",
       "      <th>Thai Restaurant</th>\n",
       "    </tr>\n",
       "  </thead>\n",
       "  <tbody>\n",
       "    <tr>\n",
       "      <th>0</th>\n",
       "      <td>North Park</td>\n",
       "      <td>0.0</td>\n",
       "      <td>0.0</td>\n",
       "      <td>0.0</td>\n",
       "      <td>0.0</td>\n",
       "      <td>0.0</td>\n",
       "      <td>0.0</td>\n",
       "      <td>0.0</td>\n",
       "      <td>0.0</td>\n",
       "      <td>0.0</td>\n",
       "      <td>0.0</td>\n",
       "      <td>0.0</td>\n",
       "      <td>0.0</td>\n",
       "      <td>0.0</td>\n",
       "      <td>0.0</td>\n",
       "      <td>0.0</td>\n",
       "      <td>0.0</td>\n",
       "      <td>0.0</td>\n",
       "      <td>1.0</td>\n",
       "      <td>0.0</td>\n",
       "      <td>0.0</td>\n",
       "    </tr>\n",
       "    <tr>\n",
       "      <th>1</th>\n",
       "      <td>North Park</td>\n",
       "      <td>0.0</td>\n",
       "      <td>0.0</td>\n",
       "      <td>1.0</td>\n",
       "      <td>0.0</td>\n",
       "      <td>0.0</td>\n",
       "      <td>0.0</td>\n",
       "      <td>0.0</td>\n",
       "      <td>0.0</td>\n",
       "      <td>0.0</td>\n",
       "      <td>0.0</td>\n",
       "      <td>0.0</td>\n",
       "      <td>0.0</td>\n",
       "      <td>0.0</td>\n",
       "      <td>0.0</td>\n",
       "      <td>0.0</td>\n",
       "      <td>0.0</td>\n",
       "      <td>0.0</td>\n",
       "      <td>0.0</td>\n",
       "      <td>0.0</td>\n",
       "      <td>0.0</td>\n",
       "    </tr>\n",
       "    <tr>\n",
       "      <th>2</th>\n",
       "      <td>North Park</td>\n",
       "      <td>0.0</td>\n",
       "      <td>0.0</td>\n",
       "      <td>0.0</td>\n",
       "      <td>1.0</td>\n",
       "      <td>0.0</td>\n",
       "      <td>0.0</td>\n",
       "      <td>0.0</td>\n",
       "      <td>0.0</td>\n",
       "      <td>0.0</td>\n",
       "      <td>0.0</td>\n",
       "      <td>0.0</td>\n",
       "      <td>0.0</td>\n",
       "      <td>0.0</td>\n",
       "      <td>0.0</td>\n",
       "      <td>0.0</td>\n",
       "      <td>0.0</td>\n",
       "      <td>0.0</td>\n",
       "      <td>0.0</td>\n",
       "      <td>0.0</td>\n",
       "      <td>0.0</td>\n",
       "    </tr>\n",
       "    <tr>\n",
       "      <th>3</th>\n",
       "      <td>North Park</td>\n",
       "      <td>0.0</td>\n",
       "      <td>0.0</td>\n",
       "      <td>0.0</td>\n",
       "      <td>0.0</td>\n",
       "      <td>0.0</td>\n",
       "      <td>0.0</td>\n",
       "      <td>0.0</td>\n",
       "      <td>0.0</td>\n",
       "      <td>0.0</td>\n",
       "      <td>0.0</td>\n",
       "      <td>0.0</td>\n",
       "      <td>0.0</td>\n",
       "      <td>0.0</td>\n",
       "      <td>0.0</td>\n",
       "      <td>0.0</td>\n",
       "      <td>0.0</td>\n",
       "      <td>1.0</td>\n",
       "      <td>0.0</td>\n",
       "      <td>0.0</td>\n",
       "      <td>0.0</td>\n",
       "    </tr>\n",
       "    <tr>\n",
       "      <th>4</th>\n",
       "      <td>North Park</td>\n",
       "      <td>0.0</td>\n",
       "      <td>0.0</td>\n",
       "      <td>0.0</td>\n",
       "      <td>0.0</td>\n",
       "      <td>0.0</td>\n",
       "      <td>0.0</td>\n",
       "      <td>0.0</td>\n",
       "      <td>0.0</td>\n",
       "      <td>1.0</td>\n",
       "      <td>0.0</td>\n",
       "      <td>0.0</td>\n",
       "      <td>0.0</td>\n",
       "      <td>0.0</td>\n",
       "      <td>0.0</td>\n",
       "      <td>0.0</td>\n",
       "      <td>0.0</td>\n",
       "      <td>0.0</td>\n",
       "      <td>0.0</td>\n",
       "      <td>0.0</td>\n",
       "      <td>0.0</td>\n",
       "    </tr>\n",
       "  </tbody>\n",
       "</table>\n",
       "</div>"
      ],
      "text/plain": [
       "  Neighborhood  Antique Shop  Breakfast Spot  Brewery  Burger Joint  Café  \\\n",
       "0   North Park           0.0             0.0      0.0           0.0   0.0   \n",
       "1   North Park           0.0             0.0      1.0           0.0   0.0   \n",
       "2   North Park           0.0             0.0      0.0           1.0   0.0   \n",
       "3   North Park           0.0             0.0      0.0           0.0   0.0   \n",
       "4   North Park           0.0             0.0      0.0           0.0   0.0   \n",
       "\n",
       "   Coffee Shop  Fast Food Restaurant  Flower Shop  French Restaurant  \\\n",
       "0          0.0                   0.0          0.0                0.0   \n",
       "1          0.0                   0.0          0.0                0.0   \n",
       "2          0.0                   0.0          0.0                0.0   \n",
       "3          0.0                   0.0          0.0                0.0   \n",
       "4          0.0                   0.0          0.0                1.0   \n",
       "\n",
       "   Italian Restaurant  Liquor Store  Lounge  New American Restaurant  \\\n",
       "0                 0.0           0.0     0.0                      0.0   \n",
       "1                 0.0           0.0     0.0                      0.0   \n",
       "2                 0.0           0.0     0.0                      0.0   \n",
       "3                 0.0           0.0     0.0                      0.0   \n",
       "4                 0.0           0.0     0.0                      0.0   \n",
       "\n",
       "   Noodle House  Park  Pet Store  Pizza Place  Seafood Restaurant  Taco Place  \\\n",
       "0           0.0   0.0        0.0          0.0                 1.0         0.0   \n",
       "1           0.0   0.0        0.0          0.0                 0.0         0.0   \n",
       "2           0.0   0.0        0.0          0.0                 0.0         0.0   \n",
       "3           0.0   0.0        0.0          1.0                 0.0         0.0   \n",
       "4           0.0   0.0        0.0          0.0                 0.0         0.0   \n",
       "\n",
       "   Thai Restaurant  \n",
       "0              0.0  \n",
       "1              0.0  \n",
       "2              0.0  \n",
       "3              0.0  \n",
       "4              0.0  "
      ]
     },
     "execution_count": 21,
     "metadata": {},
     "output_type": "execute_result"
    }
   ],
   "source": [
    "# one hot encoding\n",
    "northpark_onehot = pd.get_dummies(nearby_venues[['categories']], prefix=\"\", prefix_sep=\"\")\n",
    "\n",
    "# add neighborhood column to dataframe\n",
    "northpark_onehot['Neighborhood'] = 'North Park'\n",
    "\n",
    "# move neighborhood column to the first column\n",
    "fixed_columns = [northpark_onehot.columns[-1]] + list(northpark_onehot.columns[:-1])\n",
    "northpark_onehot = northpark_onehot[fixed_columns]\n",
    "\n",
    "print(northpark_onehot.shape)\n",
    "northpark_onehot.head()"
   ]
  },
  {
   "cell_type": "markdown",
   "metadata": {},
   "source": [
    "### Get the mean score for each venue type"
   ]
  },
  {
   "cell_type": "code",
   "execution_count": 23,
   "metadata": {
    "collapsed": false
   },
   "outputs": [
    {
     "data": {
      "text/html": [
       "<div>\n",
       "<table border=\"1\" class=\"dataframe\">\n",
       "  <thead>\n",
       "    <tr style=\"text-align: right;\">\n",
       "      <th></th>\n",
       "      <th>Antique Shop</th>\n",
       "      <th>Breakfast Spot</th>\n",
       "      <th>Brewery</th>\n",
       "      <th>Burger Joint</th>\n",
       "      <th>Café</th>\n",
       "      <th>Coffee Shop</th>\n",
       "      <th>Fast Food Restaurant</th>\n",
       "      <th>Flower Shop</th>\n",
       "      <th>French Restaurant</th>\n",
       "      <th>Italian Restaurant</th>\n",
       "      <th>Liquor Store</th>\n",
       "      <th>Lounge</th>\n",
       "      <th>New American Restaurant</th>\n",
       "      <th>Noodle House</th>\n",
       "      <th>Park</th>\n",
       "      <th>Pet Store</th>\n",
       "      <th>Pizza Place</th>\n",
       "      <th>Seafood Restaurant</th>\n",
       "      <th>Taco Place</th>\n",
       "      <th>Thai Restaurant</th>\n",
       "    </tr>\n",
       "    <tr>\n",
       "      <th>Neighborhood</th>\n",
       "      <th></th>\n",
       "      <th></th>\n",
       "      <th></th>\n",
       "      <th></th>\n",
       "      <th></th>\n",
       "      <th></th>\n",
       "      <th></th>\n",
       "      <th></th>\n",
       "      <th></th>\n",
       "      <th></th>\n",
       "      <th></th>\n",
       "      <th></th>\n",
       "      <th></th>\n",
       "      <th></th>\n",
       "      <th></th>\n",
       "      <th></th>\n",
       "      <th></th>\n",
       "      <th></th>\n",
       "      <th></th>\n",
       "      <th></th>\n",
       "    </tr>\n",
       "  </thead>\n",
       "  <tbody>\n",
       "    <tr>\n",
       "      <th>North Park</th>\n",
       "      <td>0.041667</td>\n",
       "      <td>0.041667</td>\n",
       "      <td>0.041667</td>\n",
       "      <td>0.041667</td>\n",
       "      <td>0.125</td>\n",
       "      <td>0.041667</td>\n",
       "      <td>0.041667</td>\n",
       "      <td>0.041667</td>\n",
       "      <td>0.041667</td>\n",
       "      <td>0.083333</td>\n",
       "      <td>0.041667</td>\n",
       "      <td>0.041667</td>\n",
       "      <td>0.041667</td>\n",
       "      <td>0.041667</td>\n",
       "      <td>0.041667</td>\n",
       "      <td>0.041667</td>\n",
       "      <td>0.041667</td>\n",
       "      <td>0.041667</td>\n",
       "      <td>0.041667</td>\n",
       "      <td>0.083333</td>\n",
       "    </tr>\n",
       "  </tbody>\n",
       "</table>\n",
       "</div>"
      ],
      "text/plain": [
       "              Antique Shop  Breakfast Spot   Brewery  Burger Joint   Café  \\\n",
       "Neighborhood                                                                \n",
       "North Park        0.041667        0.041667  0.041667      0.041667  0.125   \n",
       "\n",
       "              Coffee Shop  Fast Food Restaurant  Flower Shop  \\\n",
       "Neighborhood                                                   \n",
       "North Park       0.041667              0.041667     0.041667   \n",
       "\n",
       "              French Restaurant  Italian Restaurant  Liquor Store    Lounge  \\\n",
       "Neighborhood                                                                  \n",
       "North Park             0.041667            0.083333      0.041667  0.041667   \n",
       "\n",
       "              New American Restaurant  Noodle House      Park  Pet Store  \\\n",
       "Neighborhood                                                               \n",
       "North Park                   0.041667      0.041667  0.041667   0.041667   \n",
       "\n",
       "              Pizza Place  Seafood Restaurant  Taco Place  Thai Restaurant  \n",
       "Neighborhood                                                                \n",
       "North Park       0.041667            0.041667    0.041667         0.083333  "
      ]
     },
     "execution_count": 23,
     "metadata": {},
     "output_type": "execute_result"
    }
   ],
   "source": [
    "northpark_onehot.groupby('Neighborhood').mean()"
   ]
  },
  {
   "cell_type": "markdown",
   "metadata": {},
   "source": [
    "### This process will be repeated  for all 100+ neighborhoods in San Diego\n",
    "- the data will be aggregated into a single DataFrame and grouped by neighborhood using the mean value for each venue category in that neighborhood.\n",
    "- The neighborhoods will then be clustered using Kmeans to locate those neighborhoods which are most similar to North Park."
   ]
  },
  {
   "cell_type": "code",
   "execution_count": null,
   "metadata": {
    "collapsed": true
   },
   "outputs": [],
   "source": []
  }
 ],
 "metadata": {
  "anaconda-cloud": {},
  "kernelspec": {
   "display_name": "Python [default]",
   "language": "python",
   "name": "python3"
  },
  "language_info": {
   "codemirror_mode": {
    "name": "ipython",
    "version": 3
   },
   "file_extension": ".py",
   "mimetype": "text/x-python",
   "name": "python",
   "nbconvert_exporter": "python",
   "pygments_lexer": "ipython3",
   "version": "3.5.6"
  }
 },
 "nbformat": 4,
 "nbformat_minor": 1
}
