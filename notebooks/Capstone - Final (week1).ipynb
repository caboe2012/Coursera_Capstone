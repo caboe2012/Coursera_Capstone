{
 "cells": [
  {
   "cell_type": "markdown",
   "metadata": {},
   "source": [
    "# Coursera - IBM Data Science Professional Certification - Week1\n"
   ]
  },
  {
   "cell_type": "markdown",
   "metadata": {},
   "source": [
    "## A description of the problem and a discussion of the background."
   ]
  },
  {
   "cell_type": "markdown",
   "metadata": {},
   "source": [
    "In San Diego, California, a client has hired your firm to help them identify in which neighbourhood they should open the 2nd location of their very successful French Restaurant.  \n",
    "\n",
    "The client has indicated they are happy with the success they have found in the neighbourhood of Nork Park and that they would like to open their 2nd location in the neighbourhood that is the most similar to North Park.  There are over 100 neighbourhoods in San Diego, so choosing which neighbourhood is the most simliar won't be easy. "
   ]
  },
  {
   "cell_type": "markdown",
   "metadata": {},
   "source": [
    "## A description of the data"
   ]
  },
  {
   "cell_type": "markdown",
   "metadata": {},
   "source": [
    "The following wikipage contains a list of all of over 100 neighbourhoods in San Diego, with links to wikipages for just about all of them.  \n",
    "\n",
    "https://en.wikipedia.org/wiki/List_of_communities_and_neighborhoods_of_San_Diego\n",
    "\n",
    "This list of neighborhoods will be used to create a table of latitude and longitude coordinates for each neighborhood either by scraping the coordinates from the respective wikipage about the neighborhood or by using the Nominatum package in python.  \n",
    "\n",
    "These latitude and longidue coordinates will be used to obtain the Foursqaure API data for about each neighborhood.  Thw foursquare API data about the venues and users in each neighborhood will be used to identify which neighborhoods are the most similar to North Park."
   ]
  }
 ],
 "metadata": {
  "anaconda-cloud": {},
  "kernelspec": {
   "display_name": "Python [default]",
   "language": "python",
   "name": "python3"
  },
  "language_info": {
   "codemirror_mode": {
    "name": "ipython",
    "version": 3
   },
   "file_extension": ".py",
   "mimetype": "text/x-python",
   "name": "python",
   "nbconvert_exporter": "python",
   "pygments_lexer": "ipython3",
   "version": "3.5.2"
  }
 },
 "nbformat": 4,
 "nbformat_minor": 1
}
