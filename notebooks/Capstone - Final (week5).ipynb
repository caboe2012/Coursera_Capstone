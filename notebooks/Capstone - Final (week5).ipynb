{
 "cells": [
  {
   "cell_type": "markdown",
   "metadata": {},
   "source": [
    "# Coursera - IBM Data Science Professional Certification - Week5\n"
   ]
  },
  {
   "cell_type": "markdown",
   "metadata": {},
   "source": [
    "### Import Modules to run analysis"
   ]
  },
  {
   "cell_type": "code",
   "execution_count": 1,
   "metadata": {
    "collapsed": true
   },
   "outputs": [],
   "source": [
    "import requests\n",
    "from bs4 import BeautifulSoup as bs\n",
    "\n",
    "import json # library to handle JSON files\n",
    "\n",
    "import numpy as np\n",
    "import pandas as pd\n",
    "pd.set_option('display.max_columns', None)\n",
    "pd.set_option('display.max_rows', None)\n",
    "from pandas.io.json import json_normalize # tranform JSON file into a pandas dataframe\n",
    "\n",
    "from geopy.geocoders import Nominatim # convert an address into latitude and longitude values\n",
    "\n",
    "import geocoder\n",
    "\n",
    "# Matplotlib and associated plotting modules\n",
    "import matplotlib.cm as cm\n",
    "import matplotlib.colors as colors\n",
    "\n",
    "from sklearn.cluster import KMeans\n",
    "\n",
    "import folium # map rendering library\n",
    "\n",
    "import warnings\n",
    "warnings.filterwarnings(\"ignore\")"
   ]
  },
  {
   "cell_type": "markdown",
   "metadata": {},
   "source": [
    "## A description of the problem and a discussion of the background."
   ]
  },
  {
   "cell_type": "markdown",
   "metadata": {},
   "source": [
    "In San Diego, California, a client has hired your firm to help them identify in which neighbourhood they should open the 2nd location of their very successful French Restaurant.  \n",
    "\n",
    "The client has indicated they are happy with the success they have found in the neighbourhood of Nork Park and that they would like to open their 2nd location in the neighbourhood that is the most similar to North Park.  There are over 100 neighbourhoods in San Diego, so choosing which neighbourhood is the most simliar won't be easy. "
   ]
  },
  {
   "cell_type": "markdown",
   "metadata": {},
   "source": [
    "## A description of the data"
   ]
  },
  {
   "cell_type": "markdown",
   "metadata": {},
   "source": [
    "The following wikipage contains a list of all of over 100 neighbourhoods in San Diego, with links to wikipages for just about all of them.  \n",
    "\n",
    "https://en.wikipedia.org/wiki/List_of_communities_and_neighborhoods_of_San_Diego\n",
    "\n",
    "This list of neighborhoods will be used to create a table of latitude and longitude coordinates for each neighborhood either by scraping the coordinates from the respective wikipage about the neighborhood or by using the Nominatum package in python.  \n",
    "\n",
    "These latitude and longidue coordinates will be used to obtain the Foursqaure API data about the venue types in each neighborhood.  This foursquare API data about the venues and venue categories awill be used to identify which neighborhoods are the most similar to North Park.\n",
    "\n",
    "An example of how the data will be used is outlined below, by grabbing the relevant data for the neighborhood of North Park."
   ]
  },
  {
   "cell_type": "markdown",
   "metadata": {},
   "source": [
    "### Functions to complete the analysis"
   ]
  },
  {
   "cell_type": "code",
   "execution_count": 2,
   "metadata": {
    "collapsed": true
   },
   "outputs": [],
   "source": [
    "def getNearbyVenues(names, latitudes, longitudes, radius=500):\n",
    "    \n",
    "    venues_list=[]\n",
    "    for name, lat, lng in zip(names, latitudes, longitudes):\n",
    "        print(name)\n",
    "        \n",
    "        # create the API request URL\n",
    "        url = 'https://api.foursquare.com/v2/venues/explore?&client_id={}&client_secret={}&v={}&ll={},{}&radius={}&limit={}'.format(\n",
    "            CLIENT_ID, \n",
    "            CLIENT_SECRET, \n",
    "            VERSION, \n",
    "            lat, \n",
    "            lng, \n",
    "            radius, \n",
    "            LIMIT)\n",
    "            \n",
    "        # make the GET request\n",
    "        results = requests.get(url).json()[\"response\"]['groups'][0]['items']\n",
    "        \n",
    "        # return only relevant information for each nearby venue\n",
    "        venues_list.append([(\n",
    "            name, \n",
    "            lat, \n",
    "            lng, \n",
    "            v['venue']['name'], \n",
    "            v['venue']['location']['lat'], \n",
    "            v['venue']['location']['lng'],  \n",
    "            v['venue']['categories'][0]['name']) for v in results])\n",
    "\n",
    "    nearby_venues = pd.DataFrame([item for venue_list in venues_list for item in venue_list])\n",
    "    nearby_venues.columns = ['Neighborhoods', \n",
    "                  'Neighborhood Latitude', \n",
    "                  'Neighborhood Longitude', \n",
    "                  'Venue', \n",
    "                  'Venue Latitude', \n",
    "                  'Venue Longitude', \n",
    "                  'Venue Category']\n",
    "    \n",
    "    return(nearby_venues)"
   ]
  },
  {
   "cell_type": "code",
   "execution_count": 3,
   "metadata": {
    "collapsed": true
   },
   "outputs": [],
   "source": [
    "# function to get the lat/long of each neighborhood\n",
    "def get_lat_long(neighborhood):\n",
    "    address = \"{}, San Diego, CA\".format(neighborhood.strip())\n",
    "    geolocator = Nominatim()\n",
    "    location = geolocator.geocode(address)\n",
    "    try:\n",
    "        latitude = location.latitude\n",
    "        longitude = location.longitude\n",
    "        return latitude, longitude\n",
    "    except:\n",
    "        return -1,-1\n",
    "\n"
   ]
  },
  {
   "cell_type": "code",
   "execution_count": 4,
   "metadata": {
    "collapsed": true
   },
   "outputs": [],
   "source": [
    "# function that extracts the category of the venue\n",
    "def get_category_type(row):\n",
    "    try:\n",
    "        categories_list = row['categories']\n",
    "    except:\n",
    "        categories_list = row['venue.categories']\n",
    "        \n",
    "    if len(categories_list) == 0:\n",
    "        return None\n",
    "    else:\n",
    "        return categories_list[0]['name']"
   ]
  },
  {
   "cell_type": "markdown",
   "metadata": {},
   "source": [
    "### Foursquare credentials"
   ]
  },
  {
   "cell_type": "code",
   "execution_count": 5,
   "metadata": {
    "collapsed": false
   },
   "outputs": [
    {
     "name": "stdout",
     "output_type": "stream",
     "text": [
      "Your credentails:\n",
      "CLIENT_ID: 42R2YOP4MTNEEGBLCFEBVLKE1S1EFC5AUWUIS45M3Q4Y00SK\n",
      "CLIENT_SECRET:X4THSP32AF2EVUC4M4O2IP3KYLKSF2WHW5BNKSQM4GYBF2N1\n"
     ]
    }
   ],
   "source": [
    "CLIENT_ID = '42R2YOP4MTNEEGBLCFEBVLKE1S1EFC5AUWUIS45M3Q4Y00SK' # your Foursquare ID\n",
    "CLIENT_SECRET = 'X4THSP32AF2EVUC4M4O2IP3KYLKSF2WHW5BNKSQM4GYBF2N1' # your Foursquare Secret\n",
    "VERSION = '20180604'\n",
    "#LIMIT = 30\n",
    "print('Your credentails:')\n",
    "print('CLIENT_ID: ' + CLIENT_ID)\n",
    "print('CLIENT_SECRET:' + CLIENT_SECRET)"
   ]
  },
  {
   "cell_type": "markdown",
   "metadata": {},
   "source": [
    "### We are looking to find the neighborhood that is the most similar to North Park according to the venue information contained in the Foursquare API venue data.\n",
    "1.  Start by getting the latitude and longitude of North Park to be used as input into the Foursquare API"
   ]
  },
  {
   "cell_type": "code",
   "execution_count": 6,
   "metadata": {
    "collapsed": false
   },
   "outputs": [],
   "source": [
    "neighborhood_latitude, neighborhood_longitude, = get_lat_long('North Park')"
   ]
  },
  {
   "cell_type": "markdown",
   "metadata": {},
   "source": [
    "#### Gather the category information about each venue in North Park, within 500 meters of the neighborhoods lat/long"
   ]
  },
  {
   "cell_type": "code",
   "execution_count": 7,
   "metadata": {
    "collapsed": false
   },
   "outputs": [
    {
     "data": {
      "text/plain": [
       "'https://api.foursquare.com/v2/venues/explore?&client_id=42R2YOP4MTNEEGBLCFEBVLKE1S1EFC5AUWUIS45M3Q4Y00SK&client_secret=X4THSP32AF2EVUC4M4O2IP3KYLKSF2WHW5BNKSQM4GYBF2N1&v=20180604&ll=32.7408842,-117.1305877&radius=1000&limit=100'"
      ]
     },
     "execution_count": 7,
     "metadata": {},
     "output_type": "execute_result"
    }
   ],
   "source": [
    "LIMIT = 100 # limit of number of venues returned by Foursquare API\n",
    "radius = 1000 # define radius\n",
    "# create URL\n",
    "url = 'https://api.foursquare.com/v2/venues/explore?&client_id={}&client_secret={}&v={}&ll={},{}&radius={}&limit={}'.format(\n",
    "    CLIENT_ID, \n",
    "    CLIENT_SECRET, \n",
    "    VERSION, \n",
    "    neighborhood_latitude, \n",
    "    neighborhood_longitude, \n",
    "    radius, \n",
    "    LIMIT)\n",
    "url # display URL"
   ]
  },
  {
   "cell_type": "markdown",
   "metadata": {},
   "source": [
    "### Convert the JSON results of the North Park venue category data to a DataFrame"
   ]
  },
  {
   "cell_type": "code",
   "execution_count": 8,
   "metadata": {
    "collapsed": false
   },
   "outputs": [
    {
     "name": "stdout",
     "output_type": "stream",
     "text": [
      "(97, 28)\n"
     ]
    },
    {
     "data": {
      "text/html": [
       "<div>\n",
       "<table border=\"1\" class=\"dataframe\">\n",
       "  <thead>\n",
       "    <tr style=\"text-align: right;\">\n",
       "      <th></th>\n",
       "      <th>reasons.count</th>\n",
       "      <th>reasons.items</th>\n",
       "      <th>referralId</th>\n",
       "      <th>venue.categories</th>\n",
       "      <th>venue.delivery.id</th>\n",
       "      <th>venue.delivery.provider.icon.name</th>\n",
       "      <th>venue.delivery.provider.icon.prefix</th>\n",
       "      <th>venue.delivery.provider.icon.sizes</th>\n",
       "      <th>venue.delivery.provider.name</th>\n",
       "      <th>venue.delivery.url</th>\n",
       "      <th>venue.id</th>\n",
       "      <th>venue.location.address</th>\n",
       "      <th>venue.location.cc</th>\n",
       "      <th>venue.location.city</th>\n",
       "      <th>venue.location.country</th>\n",
       "      <th>venue.location.crossStreet</th>\n",
       "      <th>venue.location.distance</th>\n",
       "      <th>venue.location.formattedAddress</th>\n",
       "      <th>venue.location.labeledLatLngs</th>\n",
       "      <th>venue.location.lat</th>\n",
       "      <th>venue.location.lng</th>\n",
       "      <th>venue.location.neighborhood</th>\n",
       "      <th>venue.location.postalCode</th>\n",
       "      <th>venue.location.state</th>\n",
       "      <th>venue.name</th>\n",
       "      <th>venue.photos.count</th>\n",
       "      <th>venue.photos.groups</th>\n",
       "      <th>venue.venuePage.id</th>\n",
       "    </tr>\n",
       "  </thead>\n",
       "  <tbody>\n",
       "    <tr>\n",
       "      <th>0</th>\n",
       "      <td>0</td>\n",
       "      <td>[{'summary': 'This spot is popular', 'type': '...</td>\n",
       "      <td>e-0-56391bfacd105fac6c403c63-0</td>\n",
       "      <td>[{'pluralName': 'Seafood Restaurants', 'id': '...</td>\n",
       "      <td>NaN</td>\n",
       "      <td>NaN</td>\n",
       "      <td>NaN</td>\n",
       "      <td>NaN</td>\n",
       "      <td>NaN</td>\n",
       "      <td>NaN</td>\n",
       "      <td>56391bfacd105fac6c403c63</td>\n",
       "      <td>3382 30th St</td>\n",
       "      <td>US</td>\n",
       "      <td>San Diego</td>\n",
       "      <td>United States</td>\n",
       "      <td>NaN</td>\n",
       "      <td>117</td>\n",
       "      <td>[3382 30th St, San Diego, CA 92104, United Sta...</td>\n",
       "      <td>[{'lat': 32.74087051063667, 'lng': -117.129334...</td>\n",
       "      <td>32.740871</td>\n",
       "      <td>-117.129334</td>\n",
       "      <td>NaN</td>\n",
       "      <td>92104</td>\n",
       "      <td>CA</td>\n",
       "      <td>Pete's Seafood &amp; Sandwich</td>\n",
       "      <td>0</td>\n",
       "      <td>[]</td>\n",
       "      <td>NaN</td>\n",
       "    </tr>\n",
       "    <tr>\n",
       "      <th>1</th>\n",
       "      <td>0</td>\n",
       "      <td>[{'summary': 'This spot is popular', 'type': '...</td>\n",
       "      <td>e-0-536add8e11d21c7853ef0883-1</td>\n",
       "      <td>[{'pluralName': 'Breweries', 'id': '50327c8591...</td>\n",
       "      <td>NaN</td>\n",
       "      <td>NaN</td>\n",
       "      <td>NaN</td>\n",
       "      <td>NaN</td>\n",
       "      <td>NaN</td>\n",
       "      <td>NaN</td>\n",
       "      <td>536add8e11d21c7853ef0883</td>\n",
       "      <td>3000 Upas St</td>\n",
       "      <td>US</td>\n",
       "      <td>San Diego</td>\n",
       "      <td>United States</td>\n",
       "      <td>at 30th St</td>\n",
       "      <td>91</td>\n",
       "      <td>[3000 Upas St (at 30th St), San Diego, CA 9210...</td>\n",
       "      <td>[{'lat': 32.741510883435105, 'lng': -117.12994...</td>\n",
       "      <td>32.741511</td>\n",
       "      <td>-117.129949</td>\n",
       "      <td>North Park, San Diego, CA</td>\n",
       "      <td>92104</td>\n",
       "      <td>CA</td>\n",
       "      <td>Modern Times Flavordome</td>\n",
       "      <td>0</td>\n",
       "      <td>[]</td>\n",
       "      <td>NaN</td>\n",
       "    </tr>\n",
       "    <tr>\n",
       "      <th>2</th>\n",
       "      <td>0</td>\n",
       "      <td>[{'summary': 'This spot is popular', 'type': '...</td>\n",
       "      <td>e-0-577d9c47498e861ea1dbf937-2</td>\n",
       "      <td>[{'pluralName': 'Burger Joints', 'id': '4bf58d...</td>\n",
       "      <td>NaN</td>\n",
       "      <td>NaN</td>\n",
       "      <td>NaN</td>\n",
       "      <td>NaN</td>\n",
       "      <td>NaN</td>\n",
       "      <td>NaN</td>\n",
       "      <td>577d9c47498e861ea1dbf937</td>\n",
       "      <td>3501 30th St</td>\n",
       "      <td>US</td>\n",
       "      <td>San Diego</td>\n",
       "      <td>United States</td>\n",
       "      <td>Myrtle Ave</td>\n",
       "      <td>165</td>\n",
       "      <td>[3501 30th St (Myrtle Ave), San Diego, CA 9210...</td>\n",
       "      <td>[{'lat': 32.742278423256074, 'lng': -117.12995...</td>\n",
       "      <td>32.742278</td>\n",
       "      <td>-117.129960</td>\n",
       "      <td>NaN</td>\n",
       "      <td>92104</td>\n",
       "      <td>CA</td>\n",
       "      <td>Dunedin North Park</td>\n",
       "      <td>0</td>\n",
       "      <td>[]</td>\n",
       "      <td>NaN</td>\n",
       "    </tr>\n",
       "    <tr>\n",
       "      <th>3</th>\n",
       "      <td>0</td>\n",
       "      <td>[{'summary': 'This spot is popular', 'type': '...</td>\n",
       "      <td>e-0-480262c5f964a520f14e1fe3-3</td>\n",
       "      <td>[{'pluralName': 'Pizza Places', 'id': '4bf58dd...</td>\n",
       "      <td>NaN</td>\n",
       "      <td>NaN</td>\n",
       "      <td>NaN</td>\n",
       "      <td>NaN</td>\n",
       "      <td>NaN</td>\n",
       "      <td>NaN</td>\n",
       "      <td>480262c5f964a520f14e1fe3</td>\n",
       "      <td>3448 30th St</td>\n",
       "      <td>US</td>\n",
       "      <td>San Diego</td>\n",
       "      <td>United States</td>\n",
       "      <td>at Myrtle Ave</td>\n",
       "      <td>130</td>\n",
       "      <td>[3448 30th St (at Myrtle Ave), San Diego, CA 9...</td>\n",
       "      <td>[{'lat': 32.742004958632215, 'lng': -117.13017...</td>\n",
       "      <td>32.742005</td>\n",
       "      <td>-117.130177</td>\n",
       "      <td>NaN</td>\n",
       "      <td>92104</td>\n",
       "      <td>CA</td>\n",
       "      <td>Lefty's Chicago Pizzeria</td>\n",
       "      <td>0</td>\n",
       "      <td>[]</td>\n",
       "      <td>NaN</td>\n",
       "    </tr>\n",
       "    <tr>\n",
       "      <th>4</th>\n",
       "      <td>0</td>\n",
       "      <td>[{'summary': 'This spot is popular', 'type': '...</td>\n",
       "      <td>e-0-53aee984498e7d85f525e67d-4</td>\n",
       "      <td>[{'pluralName': 'Cafés', 'id': '4bf58dd8d48988...</td>\n",
       "      <td>NaN</td>\n",
       "      <td>NaN</td>\n",
       "      <td>NaN</td>\n",
       "      <td>NaN</td>\n",
       "      <td>NaN</td>\n",
       "      <td>NaN</td>\n",
       "      <td>53aee984498e7d85f525e67d</td>\n",
       "      <td>3000 Upas St Ste 103</td>\n",
       "      <td>US</td>\n",
       "      <td>San Diego</td>\n",
       "      <td>United States</td>\n",
       "      <td>30th St</td>\n",
       "      <td>83</td>\n",
       "      <td>[3000 Upas St Ste 103 (30th St), San Diego, CA...</td>\n",
       "      <td>[{'lat': 32.74144910740029, 'lng': -117.129994...</td>\n",
       "      <td>32.741449</td>\n",
       "      <td>-117.129995</td>\n",
       "      <td>NaN</td>\n",
       "      <td>92104</td>\n",
       "      <td>CA</td>\n",
       "      <td>Influx</td>\n",
       "      <td>0</td>\n",
       "      <td>[]</td>\n",
       "      <td>NaN</td>\n",
       "    </tr>\n",
       "  </tbody>\n",
       "</table>\n",
       "</div>"
      ],
      "text/plain": [
       "   reasons.count                                      reasons.items  \\\n",
       "0              0  [{'summary': 'This spot is popular', 'type': '...   \n",
       "1              0  [{'summary': 'This spot is popular', 'type': '...   \n",
       "2              0  [{'summary': 'This spot is popular', 'type': '...   \n",
       "3              0  [{'summary': 'This spot is popular', 'type': '...   \n",
       "4              0  [{'summary': 'This spot is popular', 'type': '...   \n",
       "\n",
       "                       referralId  \\\n",
       "0  e-0-56391bfacd105fac6c403c63-0   \n",
       "1  e-0-536add8e11d21c7853ef0883-1   \n",
       "2  e-0-577d9c47498e861ea1dbf937-2   \n",
       "3  e-0-480262c5f964a520f14e1fe3-3   \n",
       "4  e-0-53aee984498e7d85f525e67d-4   \n",
       "\n",
       "                                    venue.categories venue.delivery.id  \\\n",
       "0  [{'pluralName': 'Seafood Restaurants', 'id': '...               NaN   \n",
       "1  [{'pluralName': 'Breweries', 'id': '50327c8591...               NaN   \n",
       "2  [{'pluralName': 'Burger Joints', 'id': '4bf58d...               NaN   \n",
       "3  [{'pluralName': 'Pizza Places', 'id': '4bf58dd...               NaN   \n",
       "4  [{'pluralName': 'Cafés', 'id': '4bf58dd8d48988...               NaN   \n",
       "\n",
       "  venue.delivery.provider.icon.name venue.delivery.provider.icon.prefix  \\\n",
       "0                               NaN                                 NaN   \n",
       "1                               NaN                                 NaN   \n",
       "2                               NaN                                 NaN   \n",
       "3                               NaN                                 NaN   \n",
       "4                               NaN                                 NaN   \n",
       "\n",
       "  venue.delivery.provider.icon.sizes venue.delivery.provider.name  \\\n",
       "0                                NaN                          NaN   \n",
       "1                                NaN                          NaN   \n",
       "2                                NaN                          NaN   \n",
       "3                                NaN                          NaN   \n",
       "4                                NaN                          NaN   \n",
       "\n",
       "  venue.delivery.url                  venue.id venue.location.address  \\\n",
       "0                NaN  56391bfacd105fac6c403c63           3382 30th St   \n",
       "1                NaN  536add8e11d21c7853ef0883           3000 Upas St   \n",
       "2                NaN  577d9c47498e861ea1dbf937           3501 30th St   \n",
       "3                NaN  480262c5f964a520f14e1fe3           3448 30th St   \n",
       "4                NaN  53aee984498e7d85f525e67d   3000 Upas St Ste 103   \n",
       "\n",
       "  venue.location.cc venue.location.city venue.location.country  \\\n",
       "0                US           San Diego          United States   \n",
       "1                US           San Diego          United States   \n",
       "2                US           San Diego          United States   \n",
       "3                US           San Diego          United States   \n",
       "4                US           San Diego          United States   \n",
       "\n",
       "  venue.location.crossStreet  venue.location.distance  \\\n",
       "0                        NaN                      117   \n",
       "1                 at 30th St                       91   \n",
       "2                 Myrtle Ave                      165   \n",
       "3              at Myrtle Ave                      130   \n",
       "4                    30th St                       83   \n",
       "\n",
       "                     venue.location.formattedAddress  \\\n",
       "0  [3382 30th St, San Diego, CA 92104, United Sta...   \n",
       "1  [3000 Upas St (at 30th St), San Diego, CA 9210...   \n",
       "2  [3501 30th St (Myrtle Ave), San Diego, CA 9210...   \n",
       "3  [3448 30th St (at Myrtle Ave), San Diego, CA 9...   \n",
       "4  [3000 Upas St Ste 103 (30th St), San Diego, CA...   \n",
       "\n",
       "                       venue.location.labeledLatLngs  venue.location.lat  \\\n",
       "0  [{'lat': 32.74087051063667, 'lng': -117.129334...           32.740871   \n",
       "1  [{'lat': 32.741510883435105, 'lng': -117.12994...           32.741511   \n",
       "2  [{'lat': 32.742278423256074, 'lng': -117.12995...           32.742278   \n",
       "3  [{'lat': 32.742004958632215, 'lng': -117.13017...           32.742005   \n",
       "4  [{'lat': 32.74144910740029, 'lng': -117.129994...           32.741449   \n",
       "\n",
       "   venue.location.lng venue.location.neighborhood venue.location.postalCode  \\\n",
       "0         -117.129334                         NaN                     92104   \n",
       "1         -117.129949   North Park, San Diego, CA                     92104   \n",
       "2         -117.129960                         NaN                     92104   \n",
       "3         -117.130177                         NaN                     92104   \n",
       "4         -117.129995                         NaN                     92104   \n",
       "\n",
       "  venue.location.state                 venue.name  venue.photos.count  \\\n",
       "0                   CA  Pete's Seafood & Sandwich                   0   \n",
       "1                   CA    Modern Times Flavordome                   0   \n",
       "2                   CA         Dunedin North Park                   0   \n",
       "3                   CA   Lefty's Chicago Pizzeria                   0   \n",
       "4                   CA                     Influx                   0   \n",
       "\n",
       "  venue.photos.groups venue.venuePage.id  \n",
       "0                  []                NaN  \n",
       "1                  []                NaN  \n",
       "2                  []                NaN  \n",
       "3                  []                NaN  \n",
       "4                  []                NaN  "
      ]
     },
     "execution_count": 8,
     "metadata": {},
     "output_type": "execute_result"
    }
   ],
   "source": [
    "results = requests.get(url).json()\n",
    "#results.keys()\n",
    "venues = results['response']['groups'][0]['items']\n",
    "nearby_venues = json_normalize(venues) # flatten JSON\n",
    "print(nearby_venues.shape)\n",
    "nearby_venues.head()"
   ]
  },
  {
   "cell_type": "markdown",
   "metadata": {},
   "source": [
    "### Grab only the relevant data"
   ]
  },
  {
   "cell_type": "code",
   "execution_count": 9,
   "metadata": {
    "collapsed": false
   },
   "outputs": [
    {
     "data": {
      "text/plain": [
       "(97, 4)"
      ]
     },
     "execution_count": 9,
     "metadata": {},
     "output_type": "execute_result"
    }
   ],
   "source": [
    "# filter columns\n",
    "filtered_columns = ['venue.name', 'venue.categories', 'venue.location.lat', 'venue.location.lng']\n",
    "nearby_venues =nearby_venues.loc[:, filtered_columns]\n",
    "nearby_venues.shape"
   ]
  },
  {
   "cell_type": "code",
   "execution_count": 10,
   "metadata": {
    "collapsed": false
   },
   "outputs": [],
   "source": [
    "nearby_venues['venue.categories'] = nearby_venues.apply(get_category_type, axis=1)"
   ]
  },
  {
   "cell_type": "code",
   "execution_count": 11,
   "metadata": {
    "collapsed": true
   },
   "outputs": [],
   "source": [
    "nearby_venues.columns = [col.split(\".\")[-1] for col in nearby_venues.columns]"
   ]
  },
  {
   "cell_type": "markdown",
   "metadata": {},
   "source": [
    "### Take a look at the first few rows of cleaned up North Park venue data "
   ]
  },
  {
   "cell_type": "code",
   "execution_count": 12,
   "metadata": {
    "collapsed": false
   },
   "outputs": [
    {
     "data": {
      "text/html": [
       "<div>\n",
       "<table border=\"1\" class=\"dataframe\">\n",
       "  <thead>\n",
       "    <tr style=\"text-align: right;\">\n",
       "      <th></th>\n",
       "      <th>name</th>\n",
       "      <th>categories</th>\n",
       "      <th>lat</th>\n",
       "      <th>lng</th>\n",
       "    </tr>\n",
       "  </thead>\n",
       "  <tbody>\n",
       "    <tr>\n",
       "      <th>0</th>\n",
       "      <td>Pete's Seafood &amp; Sandwich</td>\n",
       "      <td>Seafood Restaurant</td>\n",
       "      <td>32.740871</td>\n",
       "      <td>-117.129334</td>\n",
       "    </tr>\n",
       "    <tr>\n",
       "      <th>1</th>\n",
       "      <td>Modern Times Flavordome</td>\n",
       "      <td>Brewery</td>\n",
       "      <td>32.741511</td>\n",
       "      <td>-117.129949</td>\n",
       "    </tr>\n",
       "    <tr>\n",
       "      <th>2</th>\n",
       "      <td>Dunedin North Park</td>\n",
       "      <td>Burger Joint</td>\n",
       "      <td>32.742278</td>\n",
       "      <td>-117.129960</td>\n",
       "    </tr>\n",
       "    <tr>\n",
       "      <th>3</th>\n",
       "      <td>Lefty's Chicago Pizzeria</td>\n",
       "      <td>Pizza Place</td>\n",
       "      <td>32.742005</td>\n",
       "      <td>-117.130177</td>\n",
       "    </tr>\n",
       "    <tr>\n",
       "      <th>4</th>\n",
       "      <td>Influx</td>\n",
       "      <td>Café</td>\n",
       "      <td>32.741449</td>\n",
       "      <td>-117.129995</td>\n",
       "    </tr>\n",
       "  </tbody>\n",
       "</table>\n",
       "</div>"
      ],
      "text/plain": [
       "                        name          categories        lat         lng\n",
       "0  Pete's Seafood & Sandwich  Seafood Restaurant  32.740871 -117.129334\n",
       "1    Modern Times Flavordome             Brewery  32.741511 -117.129949\n",
       "2         Dunedin North Park        Burger Joint  32.742278 -117.129960\n",
       "3   Lefty's Chicago Pizzeria         Pizza Place  32.742005 -117.130177\n",
       "4                     Influx                Café  32.741449 -117.129995"
      ]
     },
     "execution_count": 12,
     "metadata": {},
     "output_type": "execute_result"
    }
   ],
   "source": [
    "nearby_venues.head()"
   ]
  },
  {
   "cell_type": "markdown",
   "metadata": {},
   "source": [
    "### Take a quick look at the category breakdown for North Park"
   ]
  },
  {
   "cell_type": "code",
   "execution_count": 13,
   "metadata": {
    "collapsed": false
   },
   "outputs": [
    {
     "data": {
      "text/plain": [
       "Coffee Shop            6\n",
       "Brewery                5\n",
       "Pizza Place            5\n",
       "Café                   5\n",
       "Breakfast Spot         4\n",
       "Park                   4\n",
       "Ice Cream Shop         3\n",
       "Mexican Restaurant     3\n",
       "American Restaurant    3\n",
       "Liquor Store           3\n",
       "Name: categories, dtype: int64"
      ]
     },
     "execution_count": 13,
     "metadata": {},
     "output_type": "execute_result"
    }
   ],
   "source": [
    "nearby_venues['categories'].value_counts()[:10]"
   ]
  },
  {
   "cell_type": "markdown",
   "metadata": {},
   "source": [
    "### One hot encode the the Venue Categories for all of the Neighborhoods"
   ]
  },
  {
   "cell_type": "code",
   "execution_count": 14,
   "metadata": {
    "collapsed": false
   },
   "outputs": [
    {
     "name": "stdout",
     "output_type": "stream",
     "text": [
      "(97, 59)\n"
     ]
    },
    {
     "data": {
      "text/html": [
       "<div>\n",
       "<table border=\"1\" class=\"dataframe\">\n",
       "  <thead>\n",
       "    <tr style=\"text-align: right;\">\n",
       "      <th></th>\n",
       "      <th>Neighborhood</th>\n",
       "      <th>ATM</th>\n",
       "      <th>Accessories Store</th>\n",
       "      <th>American Restaurant</th>\n",
       "      <th>Art Gallery</th>\n",
       "      <th>BBQ Joint</th>\n",
       "      <th>Bakery</th>\n",
       "      <th>Bar</th>\n",
       "      <th>Beer Bar</th>\n",
       "      <th>Beer Store</th>\n",
       "      <th>Breakfast Spot</th>\n",
       "      <th>Brewery</th>\n",
       "      <th>Burger Joint</th>\n",
       "      <th>Café</th>\n",
       "      <th>Camera Store</th>\n",
       "      <th>Chinese Restaurant</th>\n",
       "      <th>Coffee Shop</th>\n",
       "      <th>Convenience Store</th>\n",
       "      <th>Disc Golf</th>\n",
       "      <th>Donut Shop</th>\n",
       "      <th>Farmers Market</th>\n",
       "      <th>Fast Food Restaurant</th>\n",
       "      <th>French Restaurant</th>\n",
       "      <th>Gastropub</th>\n",
       "      <th>Grocery Store</th>\n",
       "      <th>Gym / Fitness Center</th>\n",
       "      <th>Health &amp; Beauty Service</th>\n",
       "      <th>Hobby Shop</th>\n",
       "      <th>Ice Cream Shop</th>\n",
       "      <th>Italian Restaurant</th>\n",
       "      <th>Liquor Store</th>\n",
       "      <th>Lounge</th>\n",
       "      <th>Massage Studio</th>\n",
       "      <th>Mexican Restaurant</th>\n",
       "      <th>Mobile Phone Shop</th>\n",
       "      <th>Music Venue</th>\n",
       "      <th>New American Restaurant</th>\n",
       "      <th>Noodle House</th>\n",
       "      <th>Park</th>\n",
       "      <th>Performing Arts Venue</th>\n",
       "      <th>Pet Store</th>\n",
       "      <th>Pharmacy</th>\n",
       "      <th>Pizza Place</th>\n",
       "      <th>Poke Place</th>\n",
       "      <th>Pool</th>\n",
       "      <th>Salon / Barbershop</th>\n",
       "      <th>Seafood Restaurant</th>\n",
       "      <th>Spa</th>\n",
       "      <th>Sushi Restaurant</th>\n",
       "      <th>Taco Place</th>\n",
       "      <th>Tennis Court</th>\n",
       "      <th>Thai Restaurant</th>\n",
       "      <th>Vegetarian / Vegan Restaurant</th>\n",
       "      <th>Video Store</th>\n",
       "      <th>Vietnamese Restaurant</th>\n",
       "      <th>Whisky Bar</th>\n",
       "      <th>Wine Bar</th>\n",
       "      <th>Women's Store</th>\n",
       "      <th>Yoga Studio</th>\n",
       "    </tr>\n",
       "  </thead>\n",
       "  <tbody>\n",
       "    <tr>\n",
       "      <th>0</th>\n",
       "      <td>North Park</td>\n",
       "      <td>0.0</td>\n",
       "      <td>0.0</td>\n",
       "      <td>0.0</td>\n",
       "      <td>0.0</td>\n",
       "      <td>0.0</td>\n",
       "      <td>0.0</td>\n",
       "      <td>0.0</td>\n",
       "      <td>0.0</td>\n",
       "      <td>0.0</td>\n",
       "      <td>0.0</td>\n",
       "      <td>0.0</td>\n",
       "      <td>0.0</td>\n",
       "      <td>0.0</td>\n",
       "      <td>0.0</td>\n",
       "      <td>0.0</td>\n",
       "      <td>0.0</td>\n",
       "      <td>0.0</td>\n",
       "      <td>0.0</td>\n",
       "      <td>0.0</td>\n",
       "      <td>0.0</td>\n",
       "      <td>0.0</td>\n",
       "      <td>0.0</td>\n",
       "      <td>0.0</td>\n",
       "      <td>0.0</td>\n",
       "      <td>0.0</td>\n",
       "      <td>0.0</td>\n",
       "      <td>0.0</td>\n",
       "      <td>0.0</td>\n",
       "      <td>0.0</td>\n",
       "      <td>0.0</td>\n",
       "      <td>0.0</td>\n",
       "      <td>0.0</td>\n",
       "      <td>0.0</td>\n",
       "      <td>0.0</td>\n",
       "      <td>0.0</td>\n",
       "      <td>0.0</td>\n",
       "      <td>0.0</td>\n",
       "      <td>0.0</td>\n",
       "      <td>0.0</td>\n",
       "      <td>0.0</td>\n",
       "      <td>0.0</td>\n",
       "      <td>0.0</td>\n",
       "      <td>0.0</td>\n",
       "      <td>0.0</td>\n",
       "      <td>0.0</td>\n",
       "      <td>1.0</td>\n",
       "      <td>0.0</td>\n",
       "      <td>0.0</td>\n",
       "      <td>0.0</td>\n",
       "      <td>0.0</td>\n",
       "      <td>0.0</td>\n",
       "      <td>0.0</td>\n",
       "      <td>0.0</td>\n",
       "      <td>0.0</td>\n",
       "      <td>0.0</td>\n",
       "      <td>0.0</td>\n",
       "      <td>0.0</td>\n",
       "      <td>0.0</td>\n",
       "    </tr>\n",
       "    <tr>\n",
       "      <th>1</th>\n",
       "      <td>North Park</td>\n",
       "      <td>0.0</td>\n",
       "      <td>0.0</td>\n",
       "      <td>0.0</td>\n",
       "      <td>0.0</td>\n",
       "      <td>0.0</td>\n",
       "      <td>0.0</td>\n",
       "      <td>0.0</td>\n",
       "      <td>0.0</td>\n",
       "      <td>0.0</td>\n",
       "      <td>0.0</td>\n",
       "      <td>1.0</td>\n",
       "      <td>0.0</td>\n",
       "      <td>0.0</td>\n",
       "      <td>0.0</td>\n",
       "      <td>0.0</td>\n",
       "      <td>0.0</td>\n",
       "      <td>0.0</td>\n",
       "      <td>0.0</td>\n",
       "      <td>0.0</td>\n",
       "      <td>0.0</td>\n",
       "      <td>0.0</td>\n",
       "      <td>0.0</td>\n",
       "      <td>0.0</td>\n",
       "      <td>0.0</td>\n",
       "      <td>0.0</td>\n",
       "      <td>0.0</td>\n",
       "      <td>0.0</td>\n",
       "      <td>0.0</td>\n",
       "      <td>0.0</td>\n",
       "      <td>0.0</td>\n",
       "      <td>0.0</td>\n",
       "      <td>0.0</td>\n",
       "      <td>0.0</td>\n",
       "      <td>0.0</td>\n",
       "      <td>0.0</td>\n",
       "      <td>0.0</td>\n",
       "      <td>0.0</td>\n",
       "      <td>0.0</td>\n",
       "      <td>0.0</td>\n",
       "      <td>0.0</td>\n",
       "      <td>0.0</td>\n",
       "      <td>0.0</td>\n",
       "      <td>0.0</td>\n",
       "      <td>0.0</td>\n",
       "      <td>0.0</td>\n",
       "      <td>0.0</td>\n",
       "      <td>0.0</td>\n",
       "      <td>0.0</td>\n",
       "      <td>0.0</td>\n",
       "      <td>0.0</td>\n",
       "      <td>0.0</td>\n",
       "      <td>0.0</td>\n",
       "      <td>0.0</td>\n",
       "      <td>0.0</td>\n",
       "      <td>0.0</td>\n",
       "      <td>0.0</td>\n",
       "      <td>0.0</td>\n",
       "      <td>0.0</td>\n",
       "    </tr>\n",
       "    <tr>\n",
       "      <th>2</th>\n",
       "      <td>North Park</td>\n",
       "      <td>0.0</td>\n",
       "      <td>0.0</td>\n",
       "      <td>0.0</td>\n",
       "      <td>0.0</td>\n",
       "      <td>0.0</td>\n",
       "      <td>0.0</td>\n",
       "      <td>0.0</td>\n",
       "      <td>0.0</td>\n",
       "      <td>0.0</td>\n",
       "      <td>0.0</td>\n",
       "      <td>0.0</td>\n",
       "      <td>1.0</td>\n",
       "      <td>0.0</td>\n",
       "      <td>0.0</td>\n",
       "      <td>0.0</td>\n",
       "      <td>0.0</td>\n",
       "      <td>0.0</td>\n",
       "      <td>0.0</td>\n",
       "      <td>0.0</td>\n",
       "      <td>0.0</td>\n",
       "      <td>0.0</td>\n",
       "      <td>0.0</td>\n",
       "      <td>0.0</td>\n",
       "      <td>0.0</td>\n",
       "      <td>0.0</td>\n",
       "      <td>0.0</td>\n",
       "      <td>0.0</td>\n",
       "      <td>0.0</td>\n",
       "      <td>0.0</td>\n",
       "      <td>0.0</td>\n",
       "      <td>0.0</td>\n",
       "      <td>0.0</td>\n",
       "      <td>0.0</td>\n",
       "      <td>0.0</td>\n",
       "      <td>0.0</td>\n",
       "      <td>0.0</td>\n",
       "      <td>0.0</td>\n",
       "      <td>0.0</td>\n",
       "      <td>0.0</td>\n",
       "      <td>0.0</td>\n",
       "      <td>0.0</td>\n",
       "      <td>0.0</td>\n",
       "      <td>0.0</td>\n",
       "      <td>0.0</td>\n",
       "      <td>0.0</td>\n",
       "      <td>0.0</td>\n",
       "      <td>0.0</td>\n",
       "      <td>0.0</td>\n",
       "      <td>0.0</td>\n",
       "      <td>0.0</td>\n",
       "      <td>0.0</td>\n",
       "      <td>0.0</td>\n",
       "      <td>0.0</td>\n",
       "      <td>0.0</td>\n",
       "      <td>0.0</td>\n",
       "      <td>0.0</td>\n",
       "      <td>0.0</td>\n",
       "      <td>0.0</td>\n",
       "    </tr>\n",
       "    <tr>\n",
       "      <th>3</th>\n",
       "      <td>North Park</td>\n",
       "      <td>0.0</td>\n",
       "      <td>0.0</td>\n",
       "      <td>0.0</td>\n",
       "      <td>0.0</td>\n",
       "      <td>0.0</td>\n",
       "      <td>0.0</td>\n",
       "      <td>0.0</td>\n",
       "      <td>0.0</td>\n",
       "      <td>0.0</td>\n",
       "      <td>0.0</td>\n",
       "      <td>0.0</td>\n",
       "      <td>0.0</td>\n",
       "      <td>0.0</td>\n",
       "      <td>0.0</td>\n",
       "      <td>0.0</td>\n",
       "      <td>0.0</td>\n",
       "      <td>0.0</td>\n",
       "      <td>0.0</td>\n",
       "      <td>0.0</td>\n",
       "      <td>0.0</td>\n",
       "      <td>0.0</td>\n",
       "      <td>0.0</td>\n",
       "      <td>0.0</td>\n",
       "      <td>0.0</td>\n",
       "      <td>0.0</td>\n",
       "      <td>0.0</td>\n",
       "      <td>0.0</td>\n",
       "      <td>0.0</td>\n",
       "      <td>0.0</td>\n",
       "      <td>0.0</td>\n",
       "      <td>0.0</td>\n",
       "      <td>0.0</td>\n",
       "      <td>0.0</td>\n",
       "      <td>0.0</td>\n",
       "      <td>0.0</td>\n",
       "      <td>0.0</td>\n",
       "      <td>0.0</td>\n",
       "      <td>0.0</td>\n",
       "      <td>0.0</td>\n",
       "      <td>0.0</td>\n",
       "      <td>0.0</td>\n",
       "      <td>1.0</td>\n",
       "      <td>0.0</td>\n",
       "      <td>0.0</td>\n",
       "      <td>0.0</td>\n",
       "      <td>0.0</td>\n",
       "      <td>0.0</td>\n",
       "      <td>0.0</td>\n",
       "      <td>0.0</td>\n",
       "      <td>0.0</td>\n",
       "      <td>0.0</td>\n",
       "      <td>0.0</td>\n",
       "      <td>0.0</td>\n",
       "      <td>0.0</td>\n",
       "      <td>0.0</td>\n",
       "      <td>0.0</td>\n",
       "      <td>0.0</td>\n",
       "      <td>0.0</td>\n",
       "    </tr>\n",
       "    <tr>\n",
       "      <th>4</th>\n",
       "      <td>North Park</td>\n",
       "      <td>0.0</td>\n",
       "      <td>0.0</td>\n",
       "      <td>0.0</td>\n",
       "      <td>0.0</td>\n",
       "      <td>0.0</td>\n",
       "      <td>0.0</td>\n",
       "      <td>0.0</td>\n",
       "      <td>0.0</td>\n",
       "      <td>0.0</td>\n",
       "      <td>0.0</td>\n",
       "      <td>0.0</td>\n",
       "      <td>0.0</td>\n",
       "      <td>1.0</td>\n",
       "      <td>0.0</td>\n",
       "      <td>0.0</td>\n",
       "      <td>0.0</td>\n",
       "      <td>0.0</td>\n",
       "      <td>0.0</td>\n",
       "      <td>0.0</td>\n",
       "      <td>0.0</td>\n",
       "      <td>0.0</td>\n",
       "      <td>0.0</td>\n",
       "      <td>0.0</td>\n",
       "      <td>0.0</td>\n",
       "      <td>0.0</td>\n",
       "      <td>0.0</td>\n",
       "      <td>0.0</td>\n",
       "      <td>0.0</td>\n",
       "      <td>0.0</td>\n",
       "      <td>0.0</td>\n",
       "      <td>0.0</td>\n",
       "      <td>0.0</td>\n",
       "      <td>0.0</td>\n",
       "      <td>0.0</td>\n",
       "      <td>0.0</td>\n",
       "      <td>0.0</td>\n",
       "      <td>0.0</td>\n",
       "      <td>0.0</td>\n",
       "      <td>0.0</td>\n",
       "      <td>0.0</td>\n",
       "      <td>0.0</td>\n",
       "      <td>0.0</td>\n",
       "      <td>0.0</td>\n",
       "      <td>0.0</td>\n",
       "      <td>0.0</td>\n",
       "      <td>0.0</td>\n",
       "      <td>0.0</td>\n",
       "      <td>0.0</td>\n",
       "      <td>0.0</td>\n",
       "      <td>0.0</td>\n",
       "      <td>0.0</td>\n",
       "      <td>0.0</td>\n",
       "      <td>0.0</td>\n",
       "      <td>0.0</td>\n",
       "      <td>0.0</td>\n",
       "      <td>0.0</td>\n",
       "      <td>0.0</td>\n",
       "      <td>0.0</td>\n",
       "    </tr>\n",
       "  </tbody>\n",
       "</table>\n",
       "</div>"
      ],
      "text/plain": [
       "  Neighborhood  ATM  Accessories Store  American Restaurant  Art Gallery  \\\n",
       "0   North Park  0.0                0.0                  0.0          0.0   \n",
       "1   North Park  0.0                0.0                  0.0          0.0   \n",
       "2   North Park  0.0                0.0                  0.0          0.0   \n",
       "3   North Park  0.0                0.0                  0.0          0.0   \n",
       "4   North Park  0.0                0.0                  0.0          0.0   \n",
       "\n",
       "   BBQ Joint  Bakery  Bar  Beer Bar  Beer Store  Breakfast Spot  Brewery  \\\n",
       "0        0.0     0.0  0.0       0.0         0.0             0.0      0.0   \n",
       "1        0.0     0.0  0.0       0.0         0.0             0.0      1.0   \n",
       "2        0.0     0.0  0.0       0.0         0.0             0.0      0.0   \n",
       "3        0.0     0.0  0.0       0.0         0.0             0.0      0.0   \n",
       "4        0.0     0.0  0.0       0.0         0.0             0.0      0.0   \n",
       "\n",
       "   Burger Joint  Café  Camera Store  Chinese Restaurant  Coffee Shop  \\\n",
       "0           0.0   0.0           0.0                 0.0          0.0   \n",
       "1           0.0   0.0           0.0                 0.0          0.0   \n",
       "2           1.0   0.0           0.0                 0.0          0.0   \n",
       "3           0.0   0.0           0.0                 0.0          0.0   \n",
       "4           0.0   1.0           0.0                 0.0          0.0   \n",
       "\n",
       "   Convenience Store  Disc Golf  Donut Shop  Farmers Market  \\\n",
       "0                0.0        0.0         0.0             0.0   \n",
       "1                0.0        0.0         0.0             0.0   \n",
       "2                0.0        0.0         0.0             0.0   \n",
       "3                0.0        0.0         0.0             0.0   \n",
       "4                0.0        0.0         0.0             0.0   \n",
       "\n",
       "   Fast Food Restaurant  French Restaurant  Gastropub  Grocery Store  \\\n",
       "0                   0.0                0.0        0.0            0.0   \n",
       "1                   0.0                0.0        0.0            0.0   \n",
       "2                   0.0                0.0        0.0            0.0   \n",
       "3                   0.0                0.0        0.0            0.0   \n",
       "4                   0.0                0.0        0.0            0.0   \n",
       "\n",
       "   Gym / Fitness Center  Health & Beauty Service  Hobby Shop  Ice Cream Shop  \\\n",
       "0                   0.0                      0.0         0.0             0.0   \n",
       "1                   0.0                      0.0         0.0             0.0   \n",
       "2                   0.0                      0.0         0.0             0.0   \n",
       "3                   0.0                      0.0         0.0             0.0   \n",
       "4                   0.0                      0.0         0.0             0.0   \n",
       "\n",
       "   Italian Restaurant  Liquor Store  Lounge  Massage Studio  \\\n",
       "0                 0.0           0.0     0.0             0.0   \n",
       "1                 0.0           0.0     0.0             0.0   \n",
       "2                 0.0           0.0     0.0             0.0   \n",
       "3                 0.0           0.0     0.0             0.0   \n",
       "4                 0.0           0.0     0.0             0.0   \n",
       "\n",
       "   Mexican Restaurant  Mobile Phone Shop  Music Venue  \\\n",
       "0                 0.0                0.0          0.0   \n",
       "1                 0.0                0.0          0.0   \n",
       "2                 0.0                0.0          0.0   \n",
       "3                 0.0                0.0          0.0   \n",
       "4                 0.0                0.0          0.0   \n",
       "\n",
       "   New American Restaurant  Noodle House  Park  Performing Arts Venue  \\\n",
       "0                      0.0           0.0   0.0                    0.0   \n",
       "1                      0.0           0.0   0.0                    0.0   \n",
       "2                      0.0           0.0   0.0                    0.0   \n",
       "3                      0.0           0.0   0.0                    0.0   \n",
       "4                      0.0           0.0   0.0                    0.0   \n",
       "\n",
       "   Pet Store  Pharmacy  Pizza Place  Poke Place  Pool  Salon / Barbershop  \\\n",
       "0        0.0       0.0          0.0         0.0   0.0                 0.0   \n",
       "1        0.0       0.0          0.0         0.0   0.0                 0.0   \n",
       "2        0.0       0.0          0.0         0.0   0.0                 0.0   \n",
       "3        0.0       0.0          1.0         0.0   0.0                 0.0   \n",
       "4        0.0       0.0          0.0         0.0   0.0                 0.0   \n",
       "\n",
       "   Seafood Restaurant  Spa  Sushi Restaurant  Taco Place  Tennis Court  \\\n",
       "0                 1.0  0.0               0.0         0.0           0.0   \n",
       "1                 0.0  0.0               0.0         0.0           0.0   \n",
       "2                 0.0  0.0               0.0         0.0           0.0   \n",
       "3                 0.0  0.0               0.0         0.0           0.0   \n",
       "4                 0.0  0.0               0.0         0.0           0.0   \n",
       "\n",
       "   Thai Restaurant  Vegetarian / Vegan Restaurant  Video Store  \\\n",
       "0              0.0                            0.0          0.0   \n",
       "1              0.0                            0.0          0.0   \n",
       "2              0.0                            0.0          0.0   \n",
       "3              0.0                            0.0          0.0   \n",
       "4              0.0                            0.0          0.0   \n",
       "\n",
       "   Vietnamese Restaurant  Whisky Bar  Wine Bar  Women's Store  Yoga Studio  \n",
       "0                    0.0         0.0       0.0            0.0          0.0  \n",
       "1                    0.0         0.0       0.0            0.0          0.0  \n",
       "2                    0.0         0.0       0.0            0.0          0.0  \n",
       "3                    0.0         0.0       0.0            0.0          0.0  \n",
       "4                    0.0         0.0       0.0            0.0          0.0  "
      ]
     },
     "execution_count": 14,
     "metadata": {},
     "output_type": "execute_result"
    }
   ],
   "source": [
    "# one hot encoding\n",
    "northpark_onehot = pd.get_dummies(nearby_venues[['categories']], prefix=\"\", prefix_sep=\"\")\n",
    "\n",
    "# add neighborhood column to dataframe\n",
    "northpark_onehot['Neighborhood'] = 'North Park'\n",
    "\n",
    "# move neighborhood column to the first column\n",
    "fixed_columns = [northpark_onehot.columns[-1]] + list(northpark_onehot.columns[:-1])\n",
    "northpark_onehot = northpark_onehot[fixed_columns]\n",
    "\n",
    "print(northpark_onehot.shape)\n",
    "northpark_onehot.head()"
   ]
  },
  {
   "cell_type": "markdown",
   "metadata": {},
   "source": [
    "### Get the mean score for each venue type"
   ]
  },
  {
   "cell_type": "code",
   "execution_count": 15,
   "metadata": {
    "collapsed": false
   },
   "outputs": [
    {
     "data": {
      "text/html": [
       "<div>\n",
       "<table border=\"1\" class=\"dataframe\">\n",
       "  <thead>\n",
       "    <tr style=\"text-align: right;\">\n",
       "      <th></th>\n",
       "      <th>ATM</th>\n",
       "      <th>Accessories Store</th>\n",
       "      <th>American Restaurant</th>\n",
       "      <th>Art Gallery</th>\n",
       "      <th>BBQ Joint</th>\n",
       "      <th>Bakery</th>\n",
       "      <th>Bar</th>\n",
       "      <th>Beer Bar</th>\n",
       "      <th>Beer Store</th>\n",
       "      <th>Breakfast Spot</th>\n",
       "      <th>Brewery</th>\n",
       "      <th>Burger Joint</th>\n",
       "      <th>Café</th>\n",
       "      <th>Camera Store</th>\n",
       "      <th>Chinese Restaurant</th>\n",
       "      <th>Coffee Shop</th>\n",
       "      <th>Convenience Store</th>\n",
       "      <th>Disc Golf</th>\n",
       "      <th>Donut Shop</th>\n",
       "      <th>Farmers Market</th>\n",
       "      <th>Fast Food Restaurant</th>\n",
       "      <th>French Restaurant</th>\n",
       "      <th>Gastropub</th>\n",
       "      <th>Grocery Store</th>\n",
       "      <th>Gym / Fitness Center</th>\n",
       "      <th>Health &amp; Beauty Service</th>\n",
       "      <th>Hobby Shop</th>\n",
       "      <th>Ice Cream Shop</th>\n",
       "      <th>Italian Restaurant</th>\n",
       "      <th>Liquor Store</th>\n",
       "      <th>Lounge</th>\n",
       "      <th>Massage Studio</th>\n",
       "      <th>Mexican Restaurant</th>\n",
       "      <th>Mobile Phone Shop</th>\n",
       "      <th>Music Venue</th>\n",
       "      <th>New American Restaurant</th>\n",
       "      <th>Noodle House</th>\n",
       "      <th>Park</th>\n",
       "      <th>Performing Arts Venue</th>\n",
       "      <th>Pet Store</th>\n",
       "      <th>Pharmacy</th>\n",
       "      <th>Pizza Place</th>\n",
       "      <th>Poke Place</th>\n",
       "      <th>Pool</th>\n",
       "      <th>Salon / Barbershop</th>\n",
       "      <th>Seafood Restaurant</th>\n",
       "      <th>Spa</th>\n",
       "      <th>Sushi Restaurant</th>\n",
       "      <th>Taco Place</th>\n",
       "      <th>Tennis Court</th>\n",
       "      <th>Thai Restaurant</th>\n",
       "      <th>Vegetarian / Vegan Restaurant</th>\n",
       "      <th>Video Store</th>\n",
       "      <th>Vietnamese Restaurant</th>\n",
       "      <th>Whisky Bar</th>\n",
       "      <th>Wine Bar</th>\n",
       "      <th>Women's Store</th>\n",
       "      <th>Yoga Studio</th>\n",
       "    </tr>\n",
       "    <tr>\n",
       "      <th>Neighborhood</th>\n",
       "      <th></th>\n",
       "      <th></th>\n",
       "      <th></th>\n",
       "      <th></th>\n",
       "      <th></th>\n",
       "      <th></th>\n",
       "      <th></th>\n",
       "      <th></th>\n",
       "      <th></th>\n",
       "      <th></th>\n",
       "      <th></th>\n",
       "      <th></th>\n",
       "      <th></th>\n",
       "      <th></th>\n",
       "      <th></th>\n",
       "      <th></th>\n",
       "      <th></th>\n",
       "      <th></th>\n",
       "      <th></th>\n",
       "      <th></th>\n",
       "      <th></th>\n",
       "      <th></th>\n",
       "      <th></th>\n",
       "      <th></th>\n",
       "      <th></th>\n",
       "      <th></th>\n",
       "      <th></th>\n",
       "      <th></th>\n",
       "      <th></th>\n",
       "      <th></th>\n",
       "      <th></th>\n",
       "      <th></th>\n",
       "      <th></th>\n",
       "      <th></th>\n",
       "      <th></th>\n",
       "      <th></th>\n",
       "      <th></th>\n",
       "      <th></th>\n",
       "      <th></th>\n",
       "      <th></th>\n",
       "      <th></th>\n",
       "      <th></th>\n",
       "      <th></th>\n",
       "      <th></th>\n",
       "      <th></th>\n",
       "      <th></th>\n",
       "      <th></th>\n",
       "      <th></th>\n",
       "      <th></th>\n",
       "      <th></th>\n",
       "      <th></th>\n",
       "      <th></th>\n",
       "      <th></th>\n",
       "      <th></th>\n",
       "      <th></th>\n",
       "      <th></th>\n",
       "      <th></th>\n",
       "      <th></th>\n",
       "    </tr>\n",
       "  </thead>\n",
       "  <tbody>\n",
       "    <tr>\n",
       "      <th>North Park</th>\n",
       "      <td>0.010309</td>\n",
       "      <td>0.010309</td>\n",
       "      <td>0.030928</td>\n",
       "      <td>0.010309</td>\n",
       "      <td>0.010309</td>\n",
       "      <td>0.010309</td>\n",
       "      <td>0.020619</td>\n",
       "      <td>0.010309</td>\n",
       "      <td>0.010309</td>\n",
       "      <td>0.041237</td>\n",
       "      <td>0.051546</td>\n",
       "      <td>0.010309</td>\n",
       "      <td>0.051546</td>\n",
       "      <td>0.010309</td>\n",
       "      <td>0.010309</td>\n",
       "      <td>0.061856</td>\n",
       "      <td>0.010309</td>\n",
       "      <td>0.010309</td>\n",
       "      <td>0.010309</td>\n",
       "      <td>0.010309</td>\n",
       "      <td>0.010309</td>\n",
       "      <td>0.020619</td>\n",
       "      <td>0.010309</td>\n",
       "      <td>0.010309</td>\n",
       "      <td>0.020619</td>\n",
       "      <td>0.010309</td>\n",
       "      <td>0.010309</td>\n",
       "      <td>0.030928</td>\n",
       "      <td>0.010309</td>\n",
       "      <td>0.030928</td>\n",
       "      <td>0.010309</td>\n",
       "      <td>0.010309</td>\n",
       "      <td>0.030928</td>\n",
       "      <td>0.010309</td>\n",
       "      <td>0.010309</td>\n",
       "      <td>0.010309</td>\n",
       "      <td>0.010309</td>\n",
       "      <td>0.041237</td>\n",
       "      <td>0.010309</td>\n",
       "      <td>0.010309</td>\n",
       "      <td>0.010309</td>\n",
       "      <td>0.051546</td>\n",
       "      <td>0.010309</td>\n",
       "      <td>0.010309</td>\n",
       "      <td>0.010309</td>\n",
       "      <td>0.010309</td>\n",
       "      <td>0.010309</td>\n",
       "      <td>0.030928</td>\n",
       "      <td>0.020619</td>\n",
       "      <td>0.010309</td>\n",
       "      <td>0.020619</td>\n",
       "      <td>0.020619</td>\n",
       "      <td>0.010309</td>\n",
       "      <td>0.010309</td>\n",
       "      <td>0.010309</td>\n",
       "      <td>0.010309</td>\n",
       "      <td>0.010309</td>\n",
       "      <td>0.010309</td>\n",
       "    </tr>\n",
       "  </tbody>\n",
       "</table>\n",
       "</div>"
      ],
      "text/plain": [
       "                   ATM  Accessories Store  American Restaurant  Art Gallery  \\\n",
       "Neighborhood                                                                  \n",
       "North Park    0.010309           0.010309             0.030928     0.010309   \n",
       "\n",
       "              BBQ Joint    Bakery       Bar  Beer Bar  Beer Store  \\\n",
       "Neighborhood                                                        \n",
       "North Park     0.010309  0.010309  0.020619  0.010309    0.010309   \n",
       "\n",
       "              Breakfast Spot   Brewery  Burger Joint      Café  Camera Store  \\\n",
       "Neighborhood                                                                   \n",
       "North Park          0.041237  0.051546      0.010309  0.051546      0.010309   \n",
       "\n",
       "              Chinese Restaurant  Coffee Shop  Convenience Store  Disc Golf  \\\n",
       "Neighborhood                                                                  \n",
       "North Park              0.010309     0.061856           0.010309   0.010309   \n",
       "\n",
       "              Donut Shop  Farmers Market  Fast Food Restaurant  \\\n",
       "Neighborhood                                                     \n",
       "North Park      0.010309        0.010309              0.010309   \n",
       "\n",
       "              French Restaurant  Gastropub  Grocery Store  \\\n",
       "Neighborhood                                                \n",
       "North Park             0.020619   0.010309       0.010309   \n",
       "\n",
       "              Gym / Fitness Center  Health & Beauty Service  Hobby Shop  \\\n",
       "Neighborhood                                                              \n",
       "North Park                0.020619                 0.010309    0.010309   \n",
       "\n",
       "              Ice Cream Shop  Italian Restaurant  Liquor Store    Lounge  \\\n",
       "Neighborhood                                                               \n",
       "North Park          0.030928            0.010309      0.030928  0.010309   \n",
       "\n",
       "              Massage Studio  Mexican Restaurant  Mobile Phone Shop  \\\n",
       "Neighborhood                                                          \n",
       "North Park          0.010309            0.030928           0.010309   \n",
       "\n",
       "              Music Venue  New American Restaurant  Noodle House      Park  \\\n",
       "Neighborhood                                                                 \n",
       "North Park       0.010309                 0.010309      0.010309  0.041237   \n",
       "\n",
       "              Performing Arts Venue  Pet Store  Pharmacy  Pizza Place  \\\n",
       "Neighborhood                                                            \n",
       "North Park                 0.010309   0.010309  0.010309     0.051546   \n",
       "\n",
       "              Poke Place      Pool  Salon / Barbershop  Seafood Restaurant  \\\n",
       "Neighborhood                                                                 \n",
       "North Park      0.010309  0.010309            0.010309            0.010309   \n",
       "\n",
       "                   Spa  Sushi Restaurant  Taco Place  Tennis Court  \\\n",
       "Neighborhood                                                         \n",
       "North Park    0.010309          0.030928    0.020619      0.010309   \n",
       "\n",
       "              Thai Restaurant  Vegetarian / Vegan Restaurant  Video Store  \\\n",
       "Neighborhood                                                                \n",
       "North Park           0.020619                       0.020619     0.010309   \n",
       "\n",
       "              Vietnamese Restaurant  Whisky Bar  Wine Bar  Women's Store  \\\n",
       "Neighborhood                                                               \n",
       "North Park                 0.010309    0.010309  0.010309       0.010309   \n",
       "\n",
       "              Yoga Studio  \n",
       "Neighborhood               \n",
       "North Park       0.010309  "
      ]
     },
     "execution_count": 15,
     "metadata": {},
     "output_type": "execute_result"
    }
   ],
   "source": [
    "northpark_onehot.groupby('Neighborhood').mean()"
   ]
  },
  {
   "cell_type": "markdown",
   "metadata": {},
   "source": [
    "### This process will be repeated  for all 100+ neighborhoods in San Diego\n",
    "- the data will be aggregated into a single DataFrame and grouped by neighborhood using the mean value for each venue category in that neighborhood.\n",
    "- The neighborhoods will then be clustered using Kmeans to locate those neighborhoods which are most similar to North Park."
   ]
  },
  {
   "cell_type": "markdown",
   "metadata": {},
   "source": [
    "### Scrape the list of Neighborhoods in San Diego from Wikipedia and store results in a list"
   ]
  },
  {
   "cell_type": "code",
   "execution_count": 16,
   "metadata": {
    "collapsed": false
   },
   "outputs": [
    {
     "data": {
      "text/plain": [
       "'<!DOCTYPE html>\\n<html class=\"client-nojs\" lang=\"en\" dir=\"ltr\">\\n<head>\\n<meta charset=\"UTF-8\"/>\\n<title'"
      ]
     },
     "execution_count": 16,
     "metadata": {},
     "output_type": "execute_result"
    }
   ],
   "source": [
    "url = 'https://en.wikipedia.org/wiki/List_of_communities_and_neighborhoods_of_San_Diego'\n",
    "html = requests.get(url)\n",
    "html.text[:100]"
   ]
  },
  {
   "cell_type": "code",
   "execution_count": 17,
   "metadata": {
    "collapsed": false
   },
   "outputs": [
    {
     "data": {
      "text/plain": [
       "'\\n\\n\\n\\nList of communities and neighborhoods of San Diego - Wikipedia\\ndocument.documentElement.classNam'"
      ]
     },
     "execution_count": 17,
     "metadata": {},
     "output_type": "execute_result"
    }
   ],
   "source": [
    "soup = bs(html.content,'html.parser')\n",
    "soup.text[:100]"
   ]
  },
  {
   "cell_type": "code",
   "execution_count": 18,
   "metadata": {
    "collapsed": false
   },
   "outputs": [
    {
     "data": {
      "text/plain": [
       "'\\n\\nBalboa Park\\nBankers Hill\\nBarrio Logan\\nBay Ho\\nBay Park\\nBirdland\\nBlack Mountain Ranch\\nBorder\\nBurling'"
      ]
     },
     "execution_count": 18,
     "metadata": {},
     "output_type": "execute_result"
    }
   ],
   "source": [
    "table = soup.find('table')\n",
    "table.text[:100]"
   ]
  },
  {
   "cell_type": "code",
   "execution_count": 19,
   "metadata": {
    "collapsed": false
   },
   "outputs": [
    {
     "name": "stdout",
     "output_type": "stream",
     "text": [
      "Total Neighborhoods for Analysis: 127.\n"
     ]
    }
   ],
   "source": [
    "san_diego_neighborhoods = [neighborhood for neighborhood in table.text.split('\\n') if neighborhood != \"\"]\n",
    "san_diego_neighborhoods[:10]\n",
    "print(\"Total Neighborhoods for Analysis: {}.\".format(len(san_diego_neighborhoods)))"
   ]
  },
  {
   "cell_type": "markdown",
   "metadata": {},
   "source": [
    "### Get the Latitude and Longitude for each of the neighborhoods"
   ]
  },
  {
   "cell_type": "code",
   "execution_count": 52,
   "metadata": {
    "collapsed": false
   },
   "outputs": [
    {
     "name": "stdout",
     "output_type": "stream",
     "text": [
      "Balboa Park\n",
      "(32.73135675, -117.146526555704)\n",
      "Bankers Hill\n",
      "(32.7260727, -117.1612254)\n",
      "Barrio Logan\n",
      "(32.697552, -117.1419765)\n",
      "Bay Ho\n",
      "(-1, -1)\n",
      "Bay Park\n",
      "(32.781716, -117.2064242)\n",
      "Birdland\n",
      "(32.7882923, -117.1562231)\n",
      "Black Mountain Ranch\n",
      "(32.9841169, -117.1319318)\n",
      "Border\n",
      "(32.5563803, -117.096731755882)\n",
      "Burlingame\n",
      "(32.7337039, -117.12754)\n",
      "Carmel Mountain Ranch\n",
      "(32.9803929, -117.0783641)\n",
      "Carmel Valley\n",
      "(32.9457386, -117.2310168)\n",
      "City Heights\n",
      "(32.7497278, -117.101029)\n",
      "Clairemont\n",
      "(32.7972712, -117.1925348)\n",
      "College Area\n",
      "(40.3894387, -3.66774112631767)\n",
      "Del Mar Heights\n",
      "(32.9483783, -117.2608701)\n",
      "Del Mar Mesa\n",
      "(32.9414344, -117.1825348)\n",
      "Downtown San Diego (Centre City)\n",
      "(-1, -1)\n",
      "Columbia\n",
      "(10.42889065, -75.5463785239698)\n",
      "Core\n",
      "(32.7172767, -117.1596804)\n",
      "Cortez Hill\n",
      "(32.721465, -117.1598091)\n",
      "East Village\n",
      "(32.713731, -117.1536398)\n",
      "Gaslamp Quarter\n",
      "(32.7109444, -117.1597029)\n",
      "Horton Plaza\n",
      "(32.7139859, -117.1637894)\n",
      "Little Italy\n",
      "(32.7234579, -117.168272)\n",
      "Marina\n",
      "(32.7857377, -117.0416783)\n",
      "East Elliott\n",
      "(-1, -1)\n",
      "Egger Highlands\n",
      "(-1, -1)\n",
      "El Cerrito\n",
      "(17.1263694, -96.7637179)\n",
      "Gateway\n",
      "(32.8728253, -117.206364049437)\n",
      "Golden Hill\n",
      "(32.7161627, -117.1361432)\n",
      "Grant Hill\n",
      "(32.7094961, -117.1380876)\n",
      "Harbor Island\n",
      "(32.7253286, -117.2064239)\n",
      "Harborview\n",
      "(32.7257498, -117.1718523)\n",
      "Hillcrest\n",
      "(32.7482898, -117.1609755)\n",
      "Kearny Mesa\n",
      "(32.8288522, -117.1420073)\n",
      "Kensington\n",
      "(32.7633007, -117.1073997)\n",
      "La Jolla\n",
      "(32.8335005, -117.2616203)\n",
      "La Jolla Village\n",
      "(32.8473267, -117.2746553)\n",
      "Torrey Pines\n",
      "(32.921952, -117.2550397)\n",
      "Village of La Jolla\n",
      "(-1, -1)\n",
      "Lake Murray\n",
      "(-1, -1)\n",
      "Linda Vista\n",
      "(32.7833828, -117.1714229)\n",
      "Logan Heights\n",
      "(32.6992188, -117.129476)\n",
      "Marston Hills\n",
      "(-1, -1)\n",
      "Memorial\n",
      "(37.2160944, -7.4096651)\n",
      "Midtown\n",
      "(32.7479331, -117.1653729)\n",
      "Mira Mesa\n",
      "(32.915602, -117.1439226)\n",
      "Miramar\n",
      "(32.8936581, -117.1183661)\n",
      "Mission Beach\n",
      "(32.7827144, -117.2525057)\n",
      "Mission Hills\n",
      "(32.7529512, -117.1835214)\n",
      "Mission Valley\n",
      "(32.7705017, -117.1540695)\n",
      "Civita\n",
      "(32.7807046, -117.1440719)\n",
      "Morena\n",
      "(32.7808826, -117.2078131)\n",
      "Navajo\n",
      "(32.8009085, -117.0590848)\n",
      "Allied Gardens\n",
      "(32.792687, -117.0804356)\n",
      "Del Cerro\n",
      "(32.7850349, -117.0624815)\n",
      "Grantville\n",
      "(32.7875499, -117.0972535)\n",
      "San Carlos\n",
      "(32.8030613, -117.0358921)\n",
      "Nestor\n",
      "(32.5759214, -117.084191)\n",
      "Normal Heights\n",
      "(32.7634243, -117.122791)\n",
      "North City\n",
      "(-1, -1)\n",
      "North Park\n",
      "(32.7408842, -117.1305877)\n",
      "North Clairemont\n",
      "(32.8328259, -117.2000351)\n",
      "Oak Park\n",
      "(32.7325662, -117.083051785731)\n",
      "Ocean Beach\n",
      "(32.7477784, -117.2493211)\n",
      "Ocean Crest\n",
      "(-1, -1)\n",
      "Ocean View Hills\n",
      "(-1, -1)\n",
      "Old Town\n",
      "(32.7566177, -117.2028232)\n",
      "Otay Mesa\n",
      "(32.5685896, -116.9972497)\n",
      "Otay Mesa West\n",
      "(32.5733912, -117.0541952)\n",
      "Pacific Beach\n",
      "(32.7978268, -117.2403183)\n",
      "Pacific Highlands Ranch\n",
      "(32.9693187, -117.1797888)\n",
      "Palm City\n",
      "(32.5836668, -117.0841947)\n",
      "Point Loma\n",
      "(32.6766609, -117.2435006)\n",
      "La Playa\n",
      "(32.712273, -117.2453141)\n",
      "Loma Portal\n",
      "(32.743939, -117.2189246)\n",
      "Midway\n",
      "(32.7174209, -117.1627714)\n",
      "Point Loma Heights\n",
      "(-1, -1)\n",
      "Roseville-Fleetridge\n",
      "(32.7278282, -117.2480922)\n",
      "Sunset Cliffs\n",
      "(32.7305, -117.2532)\n",
      "Wooded Area\n",
      "(32.7191705, -117.2466308)\n",
      "Rancho Bernardo\n",
      "(33.0186103, -117.0610495)\n",
      "Rancho Encantada\n",
      "(32.9248151, -117.0221726)\n",
      "Rancho Peñasquitos\n",
      "(32.9577102, -117.1285395)\n",
      "Redwood Village\n",
      "(-1, -1)\n",
      "Rolando\n",
      "(32.7605912, -117.0587276)\n",
      "Rolando Park\n",
      "(32.7578178, -117.052965959408)\n",
      "Sabre Springs\n",
      "(32.9533789, -117.094477)\n",
      "San Pasqual Valley\n",
      "(33.0910338, -116.9990022)\n",
      "San Ysidro\n",
      "(32.5520013, -117.0430813)\n",
      "Scripps Ranch\n",
      "(32.9022691, -117.0997546)\n",
      "Miramar Ranch North\n",
      "(-1, -1)\n",
      "Scripps Miramar Ranch\n",
      "(32.9112345, -117.1050553)\n",
      "Serra Mesa\n",
      "(32.802827, -117.1383662)\n",
      "Shelter Island\n",
      "(32.7113133, -117.2300319)\n",
      "Sherman Heights\n",
      "(32.7106073, -117.1422545)\n",
      "Sorrento Mesa\n",
      "(32.7678288, -117.0230839)\n",
      "Sorrento Valley\n",
      "(32.9026197, -117.2249896)\n",
      "South Park\n",
      "(32.7201829, -117.1292638)\n",
      "Southeast San Diego\n",
      "(32.7174209, -117.1627714)\n",
      "Alta Vista\n",
      "(32.6933389, -117.0631541)\n",
      "Bay Terraces\n",
      "(32.6919137, -117.0366305)\n",
      "Broadway Heights\n",
      "(32.7297697, -117.0590256)\n",
      "Chollas View\n",
      "(32.7131076, -117.0911414)\n",
      "Emerald Hills\n",
      "(32.7167187, -117.081141)\n",
      "Encanto\n",
      "(32.7119967, -117.0503063)\n",
      "Jamacha\n",
      "(32.7149616, -117.0408852)\n",
      "Lincoln Park\n",
      "(32.704219, -117.0894745)\n",
      "Lomita\n",
      "(32.7086637, -117.0286388)\n",
      "Mountain View\n",
      "(32.6992189, -117.1128086)\n",
      "Mt. Hope\n",
      "(32.7142185, -117.1075309)\n",
      "Paradise Hills\n",
      "(32.6783865, -117.0569728)\n",
      "Shelltown\n",
      "(32.6860843, -117.1077313)\n",
      "Skyline\n",
      "(32.7026609, -117.0306316)\n",
      "Southcrest\n",
      "(32.69109195, -117.11717279999)\n",
      "Valencia Park\n",
      "(32.7047745, -117.0850299)\n",
      " Map of San Diego neighborhoods\n",
      "(-1, -1)\n",
      "Stockton\n",
      "(32.713385, -117.123087)\n",
      "Talmadge\n",
      "(32.7625686, -117.0890271)\n",
      "Tierrasanta\n",
      "(32.8292155, -117.103643)\n",
      "Tijuana River Valley\n",
      "(32.5584048, -117.0929651)\n",
      "Torrey Highlands\n",
      "(32.9641209, -117.1567508)\n",
      "Torrey Hills\n",
      "(32.9156782, -117.2255492)\n",
      "University City\n",
      "(32.8826155, -117.2194514)\n",
      "University Heights\n",
      "(32.755606, -117.1394771)\n"
     ]
    }
   ],
   "source": [
    "latitudes = []\n",
    "longitudes = []\n",
    "\n",
    "batch_size = [each for each in range(0,127,25)]\n",
    "for i in range(len(batch_size)-1):\n",
    "    start = batch_size[i]\n",
    "    stop = batch_size[i+1]\n",
    "    for neighborhood in san_diego_neighborhoods[start:stop]:\n",
    "        print(neighborhood)\n",
    "        coordinates = get_lat_long(neighborhood)\n",
    "        print(coordinates)\n",
    "        temp_lat = coordinates[0]\n",
    "        latitudes.append(temp_lat)\n",
    "\n",
    "        temp_long = coordinates[1]\n",
    "        longitudes.append(temp_long)"
   ]
  },
  {
   "cell_type": "code",
   "execution_count": 53,
   "metadata": {
    "collapsed": false
   },
   "outputs": [
    {
     "name": "stdout",
     "output_type": "stream",
     "text": [
      "Uptown\n",
      "(32.7505901, -117.1691744)\n",
      "Webster\n",
      "(32.721534, -117.0937732)\n"
     ]
    }
   ],
   "source": [
    "for neighborhood in san_diego_neighborhoods[stop:]:\n",
    "    print(neighborhood)\n",
    "    coordinates = get_lat_long(neighborhood)\n",
    "    print(coordinates)\n",
    "    temp_lat = coordinates[0]\n",
    "    latitudes.append(temp_lat)\n",
    "\n",
    "    temp_long = coordinates[1]\n",
    "    longitudes.append(temp_long)"
   ]
  },
  {
   "cell_type": "code",
   "execution_count": null,
   "metadata": {
    "collapsed": true
   },
   "outputs": [],
   "source": []
  },
  {
   "cell_type": "markdown",
   "metadata": {},
   "source": [
    "### Create DataFrame containing Neighborhoods and their respective latitude and longitude"
   ]
  },
  {
   "cell_type": "code",
   "execution_count": 54,
   "metadata": {
    "collapsed": false
   },
   "outputs": [
    {
     "data": {
      "text/plain": [
       "[127, 127, 127]"
      ]
     },
     "execution_count": 54,
     "metadata": {},
     "output_type": "execute_result"
    }
   ],
   "source": [
    "[len(each) for each in [latitudes,longitudes,san_diego_neighborhoods]]"
   ]
  },
  {
   "cell_type": "code",
   "execution_count": 55,
   "metadata": {
    "collapsed": false
   },
   "outputs": [],
   "source": [
    "san_diego = pd.DataFrame()\n",
    "san_diego['Neighborhood'] = san_diego_neighborhoods\n",
    "san_diego['Neighborhood_Latitude'] = latitudes\n",
    "san_diego['Neighborhood_Longitude'] = longitudes"
   ]
  },
  {
   "cell_type": "code",
   "execution_count": 56,
   "metadata": {
    "collapsed": false
   },
   "outputs": [
    {
     "data": {
      "text/plain": [
       "(127, 3)"
      ]
     },
     "execution_count": 56,
     "metadata": {},
     "output_type": "execute_result"
    }
   ],
   "source": [
    "san_diego.shape"
   ]
  },
  {
   "cell_type": "code",
   "execution_count": 57,
   "metadata": {
    "collapsed": false
   },
   "outputs": [
    {
     "data": {
      "text/html": [
       "<div>\n",
       "<table border=\"1\" class=\"dataframe\">\n",
       "  <thead>\n",
       "    <tr style=\"text-align: right;\">\n",
       "      <th></th>\n",
       "      <th>Neighborhood</th>\n",
       "      <th>Neighborhood_Latitude</th>\n",
       "      <th>Neighborhood_Longitude</th>\n",
       "    </tr>\n",
       "  </thead>\n",
       "  <tbody>\n",
       "    <tr>\n",
       "      <th>0</th>\n",
       "      <td>Balboa Park</td>\n",
       "      <td>32.731357</td>\n",
       "      <td>-117.146527</td>\n",
       "    </tr>\n",
       "    <tr>\n",
       "      <th>1</th>\n",
       "      <td>Bankers Hill</td>\n",
       "      <td>32.726073</td>\n",
       "      <td>-117.161225</td>\n",
       "    </tr>\n",
       "    <tr>\n",
       "      <th>2</th>\n",
       "      <td>Barrio Logan</td>\n",
       "      <td>32.697552</td>\n",
       "      <td>-117.141976</td>\n",
       "    </tr>\n",
       "    <tr>\n",
       "      <th>3</th>\n",
       "      <td>Bay Ho</td>\n",
       "      <td>-1.000000</td>\n",
       "      <td>-1.000000</td>\n",
       "    </tr>\n",
       "    <tr>\n",
       "      <th>4</th>\n",
       "      <td>Bay Park</td>\n",
       "      <td>32.781716</td>\n",
       "      <td>-117.206424</td>\n",
       "    </tr>\n",
       "  </tbody>\n",
       "</table>\n",
       "</div>"
      ],
      "text/plain": [
       "   Neighborhood  Neighborhood_Latitude  Neighborhood_Longitude\n",
       "0   Balboa Park              32.731357             -117.146527\n",
       "1  Bankers Hill              32.726073             -117.161225\n",
       "2  Barrio Logan              32.697552             -117.141976\n",
       "3        Bay Ho              -1.000000               -1.000000\n",
       "4      Bay Park              32.781716             -117.206424"
      ]
     },
     "execution_count": 57,
     "metadata": {},
     "output_type": "execute_result"
    }
   ],
   "source": [
    "san_diego.head()"
   ]
  },
  {
   "cell_type": "markdown",
   "metadata": {},
   "source": [
    "### Save results to file for ease of access after restarting Kernel"
   ]
  },
  {
   "cell_type": "code",
   "execution_count": 114,
   "metadata": {
    "collapsed": false
   },
   "outputs": [],
   "source": [
    "san_diego.to_excel('san_diego_neighborhood_latitudes_and_longitudes.xlsx')"
   ]
  },
  {
   "cell_type": "markdown",
   "metadata": {},
   "source": [
    "### Determine which neighborhoods have missing/incorrect Lat/Long"
   ]
  },
  {
   "cell_type": "code",
   "execution_count": 63,
   "metadata": {
    "collapsed": false
   },
   "outputs": [
    {
     "name": "stdout",
     "output_type": "stream",
     "text": [
      "There are 14 neighborhoods with missing Latitude and Longitude values\n"
     ]
    },
    {
     "data": {
      "text/plain": [
       "['Bay Ho',\n",
       " 'Downtown San Diego (Centre City)',\n",
       " 'East Elliott',\n",
       " 'Egger Highlands',\n",
       " 'Village of La Jolla',\n",
       " 'Lake Murray',\n",
       " 'Marston Hills',\n",
       " 'North City',\n",
       " 'Ocean Crest',\n",
       " 'Ocean View Hills',\n",
       " 'Point Loma Heights',\n",
       " 'Redwood Village',\n",
       " 'Miramar Ranch North',\n",
       " ' Map of San Diego neighborhoods']"
      ]
     },
     "execution_count": 63,
     "metadata": {},
     "output_type": "execute_result"
    }
   ],
   "source": [
    "missing_lat_long = san_diego.Neighborhood.loc[san_diego.Neighborhood_Latitude == -1].values.tolist()\n",
    "print(\"There are {} neighborhoods with missing Latitude and Longitude values\".format(len(missing_lat_long)))\n",
    "missing_lat_long"
   ]
  },
  {
   "cell_type": "code",
   "execution_count": 71,
   "metadata": {
    "collapsed": false
   },
   "outputs": [],
   "source": [
    "good_lats = san_diego[((san_diego.Neighborhood_Latitude > 31) & (san_diego.Neighborhood_Latitude < 34))].index.values.tolist()"
   ]
  },
  {
   "cell_type": "code",
   "execution_count": 87,
   "metadata": {
    "collapsed": false
   },
   "outputs": [],
   "source": [
    "bad_lats = [idx for idx in range(san_diego.shape[0]) if idx not in good_lats]\n",
    "sd_bad_lats = san_diego.iloc[bad_lats]"
   ]
  },
  {
   "cell_type": "code",
   "execution_count": 88,
   "metadata": {
    "collapsed": false
   },
   "outputs": [],
   "source": [
    "good_longs = san_diego[((san_diego.Neighborhood_Longitude < -115) & (san_diego.Neighborhood_Longitude > -119))].index.values.tolist()\n",
    "bad_longs = [idx for idx in range(san_diego.shape[0]) if idx not in good_longs]\n",
    "sd_bad_longs = san_diego.iloc[bad_longs]"
   ]
  },
  {
   "cell_type": "code",
   "execution_count": 104,
   "metadata": {
    "collapsed": false
   },
   "outputs": [
    {
     "name": "stdout",
     "output_type": "stream",
     "text": [
      "['Bay Ho', 'College Area', 'Columbia', 'Downtown San Diego (Centre City)', 'East Elliott', 'Egger Highlands', 'El Cerrito', 'Lake Murray', 'Map of San Diego neighborhoods', 'Marston Hills', 'Memorial', 'Miramar Ranch North', 'North City', 'Ocean Crest', 'Ocean View Hills', 'Point Loma Heights', 'Redwood Village', 'Village of La Jolla']\n"
     ]
    }
   ],
   "source": [
    "n_bad_lats = sd_bad_lats.Neighborhood.values.tolist()\n",
    "n_bad_longs = sd_bad_longs.Neighborhood.values.tolist()\n",
    "neighborhoods_missing_coordinates = list(set(n_bad_lats + n_bad_longs))\n",
    "neighborhoods_missing_coordinates = sorted([each.strip() for each in neighborhoods_missing_coordintes])\n",
    "print(neighborhoods_missing_coordinates)"
   ]
  },
  {
   "cell_type": "markdown",
   "metadata": {},
   "source": [
    "### Remove entries from webscrape that are not actual neighborhoods\n",
    "1. ie, Map of San Diego Neighborhoods: This is title of a map on the page that was scraped inadvertently.\n",
    "2. Downtown San Diego (Centre City): This is a title representing a group of several actual neighborhoods which we will analyze individually."
   ]
  },
  {
   "cell_type": "code",
   "execution_count": 168,
   "metadata": {
    "collapsed": false
   },
   "outputs": [
    {
     "data": {
      "text/plain": [
       "['Bay Ho',\n",
       " 'College Area',\n",
       " 'Columbia',\n",
       " 'East Elliott',\n",
       " 'Egger Highlands',\n",
       " 'El Cerrito',\n",
       " 'Lake Murray',\n",
       " 'Marston Hills',\n",
       " 'Memorial',\n",
       " 'Miramar Ranch North',\n",
       " 'North City',\n",
       " 'Ocean Crest',\n",
       " 'Ocean View Hills',\n",
       " 'Point Loma Heights',\n",
       " 'Redwood Village',\n",
       " 'Village of La Jolla']"
      ]
     },
     "execution_count": 168,
     "metadata": {},
     "output_type": "execute_result"
    }
   ],
   "source": [
    "neighborhoods_missing_coordinates = [each for each in neighborhoods_missing_coordinates if each not in ['Downtown San Diego (Centre City)','Map of San Diego neighborhoods']]\n",
    "neighborhoods_missing_coordinates"
   ]
  },
  {
   "cell_type": "markdown",
   "metadata": {},
   "source": [
    "### Take a quick look at how many neighborhoods are still missing coordinates"
   ]
  },
  {
   "cell_type": "code",
   "execution_count": 169,
   "metadata": {
    "collapsed": false
   },
   "outputs": [
    {
     "name": "stdout",
     "output_type": "stream",
     "text": [
      "There are 16 neighborhoods with missing Latitude and Longitude values.\n"
     ]
    }
   ],
   "source": [
    "print(\"There are {} neighborhoods with missing Latitude and Longitude values.\".format(len(neighborhoods_missing_coordinates)))"
   ]
  },
  {
   "cell_type": "markdown",
   "metadata": {},
   "source": [
    "### Scrape the missing values from google search results\n",
    "- use the requests and BeautifulSoup libraries to query and extract lat/long coordinates from google searches"
   ]
  },
  {
   "cell_type": "code",
   "execution_count": 190,
   "metadata": {
    "collapsed": false
   },
   "outputs": [
    {
     "data": {
      "text/plain": [
       "'Village of La Jolla'"
      ]
     },
     "execution_count": 190,
     "metadata": {},
     "output_type": "execute_result"
    }
   ],
   "source": [
    "temp_neighborhood = neighborhoods_missing_coordinates[-1]\n",
    "temp_neighborhood"
   ]
  },
  {
   "cell_type": "code",
   "execution_count": 191,
   "metadata": {
    "collapsed": false
   },
   "outputs": [
    {
     "data": {
      "text/plain": [
       "'https://www.google.com/search?q=%22Village of La Jolla%22+latitude+and+longitude'"
      ]
     },
     "execution_count": 191,
     "metadata": {},
     "output_type": "execute_result"
    }
   ],
   "source": [
    "query = \"https://www.google.com/search?q=%22{}%22+latitude+and+longitude\".format(temp_neighborhood)\n",
    "query"
   ]
  },
  {
   "cell_type": "code",
   "execution_count": 192,
   "metadata": {
    "collapsed": false
   },
   "outputs": [
    {
     "data": {
      "text/plain": [
       "<Response [200]>"
      ]
     },
     "execution_count": 192,
     "metadata": {},
     "output_type": "execute_result"
    }
   ],
   "source": [
    "html = requests.get(query)\n",
    "html"
   ]
  },
  {
   "cell_type": "code",
   "execution_count": 193,
   "metadata": {
    "collapsed": false
   },
   "outputs": [
    {
     "data": {
      "text/plain": [
       "True"
      ]
     },
     "execution_count": 193,
     "metadata": {},
     "output_type": "execute_result"
    }
   ],
   "source": [
    "\"Coordinates\" in html.text"
   ]
  },
  {
   "cell_type": "code",
   "execution_count": 178,
   "metadata": {
    "collapsed": true
   },
   "outputs": [],
   "source": [
    "soup = bs(html.text, 'html.parser')"
   ]
  },
  {
   "cell_type": "code",
   "execution_count": 181,
   "metadata": {
    "collapsed": false
   },
   "outputs": [
    {
     "data": {
      "text/plain": [
       "False"
      ]
     },
     "execution_count": 181,
     "metadata": {},
     "output_type": "execute_result"
    }
   ],
   "source": [
    "\"Coordinates\" in html.text"
   ]
  },
  {
   "cell_type": "code",
   "execution_count": 182,
   "metadata": {
    "collapsed": false
   },
   "outputs": [
    {
     "data": {
      "text/plain": [
       "[]"
      ]
     },
     "execution_count": 182,
     "metadata": {},
     "output_type": "execute_result"
    }
   ],
   "source": [
    "coordinates = soup.find_all(\"span\", class_=\"mrH1y\",text=True)\n",
    "coordinates"
   ]
  },
  {
   "cell_type": "code",
   "execution_count": 135,
   "metadata": {
    "collapsed": false
   },
   "outputs": [
    {
     "name": "stdout",
     "output_type": "stream",
     "text": [
      "What would you like to search: bar\n"
     ]
    },
    {
     "data": {
      "text/plain": [
       "'https://www.google.com/search?q=bar'"
      ]
     },
     "execution_count": 135,
     "metadata": {},
     "output_type": "execute_result"
    }
   ],
   "source": [
    "query = input(\"What would you like to search: \")\n",
    "query = query.replace(\" \",\"+\")\n",
    "query = \"https://www.google.com/search?q=\" + query\n",
    "query"
   ]
  },
  {
   "cell_type": "code",
   "execution_count": 142,
   "metadata": {
    "collapsed": false
   },
   "outputs": [
    {
     "data": {
      "text/plain": [
       "'%22village+of+la+jolla%22+latitude+and+longitude'"
      ]
     },
     "execution_count": 142,
     "metadata": {},
     "output_type": "execute_result"
    }
   ],
   "source": [
    "test = \"%22village+of+la+jolla%22+latitude+and+longitude\"\n",
    "test"
   ]
  },
  {
   "cell_type": "code",
   "execution_count": null,
   "metadata": {
    "collapsed": true
   },
   "outputs": [],
   "source": []
  },
  {
   "cell_type": "code",
   "execution_count": 175,
   "metadata": {
    "collapsed": false
   },
   "outputs": [
    {
     "data": {
      "text/plain": [
       "'https://www.google.com/search?q=%22Bay Ho%22+latitude+and+longitude'"
      ]
     },
     "execution_count": 175,
     "metadata": {},
     "output_type": "execute_result"
    }
   ],
   "source": [
    "query = \"https://www.google.com/search?q=%22{}%22+latitude+and+longitude\".format(temp_neighborhood)\n",
    "query"
   ]
  },
  {
   "cell_type": "code",
   "execution_count": 144,
   "metadata": {
    "collapsed": false
   },
   "outputs": [
    {
     "data": {
      "text/plain": [
       "'https://www.google.com/search?q=%22village+of+la+jolla%22+latitude+and+longitude'"
      ]
     },
     "execution_count": 144,
     "metadata": {},
     "output_type": "execute_result"
    }
   ],
   "source": [
    "query = \"https://www.google.com/search?q=\"+test\n",
    "query"
   ]
  },
  {
   "cell_type": "code",
   "execution_count": null,
   "metadata": {
    "collapsed": true
   },
   "outputs": [],
   "source": [
    "html = requests.get(query)"
   ]
  },
  {
   "cell_type": "code",
   "execution_count": 146,
   "metadata": {
    "collapsed": false
   },
   "outputs": [
    {
     "data": {
      "text/plain": [
       "46674"
      ]
     },
     "execution_count": 146,
     "metadata": {},
     "output_type": "execute_result"
    }
   ],
   "source": [
    "len(html.text)"
   ]
  },
  {
   "cell_type": "code",
   "execution_count": 147,
   "metadata": {
    "collapsed": false
   },
   "outputs": [
    {
     "data": {
      "text/plain": [
       "True"
      ]
     },
     "execution_count": 147,
     "metadata": {},
     "output_type": "execute_result"
    }
   ],
   "source": [
    "\"Coordinates\" in html.text"
   ]
  },
  {
   "cell_type": "code",
   "execution_count": 153,
   "metadata": {
    "collapsed": false
   },
   "outputs": [
    {
     "data": {
      "text/plain": [
       "22694"
      ]
     },
     "execution_count": 153,
     "metadata": {},
     "output_type": "execute_result"
    }
   ],
   "source": [
    "html.text.index(\"117.2706\")"
   ]
  },
  {
   "cell_type": "code",
   "execution_count": 159,
   "metadata": {
    "collapsed": false
   },
   "outputs": [
    {
     "data": {
      "text/plain": [
       "'=\"resultStats\">About 1,940 results</div><div id=\"res\"><div id=\"topstuff\"></div><div id=\"search\"><div id=\"ires\"><ol><div class=\"g\"><div class=\"g\"><div id=\"Db7kif\"><span class=\"mrH1y\">32.8431° N, 117.2706° W</span><div class=\"PZ6wOb\"> Village of La Jol'"
      ]
     },
     "execution_count": 159,
     "metadata": {},
     "output_type": "execute_result"
    }
   ],
   "source": [
    "start = 22500\n",
    "end = start+250\n",
    "html.text[start:end]"
   ]
  },
  {
   "cell_type": "code",
   "execution_count": 150,
   "metadata": {
    "collapsed": false
   },
   "outputs": [],
   "source": [
    "soup = bs(html.text, 'html.parser')"
   ]
  },
  {
   "cell_type": "code",
   "execution_count": null,
   "metadata": {
    "collapsed": true
   },
   "outputs": [],
   "source": []
  },
  {
   "cell_type": "code",
   "execution_count": null,
   "metadata": {
    "collapsed": true
   },
   "outputs": [],
   "source": []
  },
  {
   "cell_type": "code",
   "execution_count": null,
   "metadata": {
    "collapsed": true
   },
   "outputs": [],
   "source": [
    "<div class=\"Z0LcW\">32.8431° N, 117.2706° W</div>"
   ]
  },
  {
   "cell_type": "code",
   "execution_count": 167,
   "metadata": {
    "collapsed": false
   },
   "outputs": [
    {
     "data": {
      "text/plain": [
       "'32.8431° N, 117.2706° W'"
      ]
     },
     "execution_count": 167,
     "metadata": {},
     "output_type": "execute_result"
    }
   ],
   "source": [
    "b = soup.find_all(\"span\", class_=\"mrH1y\",text=True)[0]\n",
    "b.text"
   ]
  },
  {
   "cell_type": "code",
   "execution_count": null,
   "metadata": {
    "collapsed": true
   },
   "outputs": [],
   "source": [
    "r = requests.get(query)\n",
    "html_doc = r.text"
   ]
  },
  {
   "cell_type": "code",
   "execution_count": 139,
   "metadata": {
    "collapsed": false
   },
   "outputs": [
    {
     "data": {
      "text/plain": [
       "'https://www.google.com/search?client=firefox-b-1-ab&ei=kUn4W7HgNIji0gKEubTIBw&q=%22village+of+la+jolla%22+latitude+and+longitude&oq=%22village+of+la+jolla%22+latitude+and+longitude&gs_l=psy-ab.3..35i39.11603.13176..13400...0.0..0.125.337.3j1......0....1..gws-wiz.Ty07VvistWo'"
      ]
     },
     "execution_count": 139,
     "metadata": {},
     "output_type": "execute_result"
    }
   ],
   "source": [
    "a = \"https://www.google.com/search?client=firefox-b-1-ab&ei=kUn4W7HgNIji0gKEubTIBw&q=%22village+of+la+jolla%22+latitude+and+longitude&oq=%22village+of+la+jolla%22+latitude+and+longitude&gs_l=psy-ab.3..35i39.11603.13176..13400...0.0..0.125.337.3j1......0....1..gws-wiz.Ty07VvistWo\"\n",
    "a"
   ]
  },
  {
   "cell_type": "code",
   "execution_count": 136,
   "metadata": {
    "collapsed": false
   },
   "outputs": [
    {
     "data": {
      "text/plain": [
       "'https://www.google.com/search?q=Village+of+La+Jolla+latitude+and+longitude&ie=utf-8&oe=utf-8&client=firefox-b-1-ab'"
      ]
     },
     "execution_count": 136,
     "metadata": {},
     "output_type": "execute_result"
    }
   ],
   "source": [
    "query = \"https://www.google.com/search?q={}+latitude+and+longitude&ie=utf-8&oe=utf-8&client=firefox-b-1-ab\".format(b)\n",
    "query"
   ]
  },
  {
   "cell_type": "code",
   "execution_count": 128,
   "metadata": {
    "collapsed": false
   },
   "outputs": [],
   "source": [
    "query = \"https://www.google.com/search?q={}+latitude+and+longitude&ie=utf-8&oe=utf-8&client=firefox-b-1-ab\".format(b)\n",
    "html = requests.get(query)"
   ]
  },
  {
   "cell_type": "code",
   "execution_count": 129,
   "metadata": {
    "collapsed": true
   },
   "outputs": [],
   "source": [
    "soup = bs(html.content,'html.parser')"
   ]
  },
  {
   "cell_type": "code",
   "execution_count": null,
   "metadata": {
    "collapsed": true
   },
   "outputs": [],
   "source": [
    "<div class=\"Z0LcW\">32.8635° N, 117.2338° W</div>"
   ]
  },
  {
   "cell_type": "code",
   "execution_count": 133,
   "metadata": {
    "collapsed": false
   },
   "outputs": [
    {
     "data": {
      "text/plain": [
       "False"
      ]
     },
     "execution_count": 133,
     "metadata": {},
     "output_type": "execute_result"
    }
   ],
   "source": [
    "\"Z0LcW\" in soup.text"
   ]
  },
  {
   "cell_type": "code",
   "execution_count": 125,
   "metadata": {
    "collapsed": false
   },
   "outputs": [
    {
     "data": {
      "text/plain": [
       "[]"
      ]
     },
     "execution_count": 125,
     "metadata": {},
     "output_type": "execute_result"
    }
   ],
   "source": [
    "soup.find_all(\"div\", {\"class\": \"Z0LcW\"})"
   ]
  },
  {
   "cell_type": "code",
   "execution_count": null,
   "metadata": {
    "collapsed": true
   },
   "outputs": [],
   "source": [
    "coordinates = soup.find('table')\n",
    "table.text[:100]"
   ]
  },
  {
   "cell_type": "code",
   "execution_count": 108,
   "metadata": {
    "collapsed": false
   },
   "outputs": [],
   "source": [
    "a = neighborhoods_missing_coordinates[-1]"
   ]
  },
  {
   "cell_type": "code",
   "execution_count": 111,
   "metadata": {
    "collapsed": false
   },
   "outputs": [],
   "source": [
    "b = \"+\".join(a.split())"
   ]
  },
  {
   "cell_type": "code",
   "execution_count": null,
   "metadata": {
    "collapsed": true
   },
   "outputs": [],
   "source": []
  },
  {
   "cell_type": "code",
   "execution_count": null,
   "metadata": {
    "collapsed": true
   },
   "outputs": [],
   "source": []
  },
  {
   "cell_type": "code",
   "execution_count": null,
   "metadata": {
    "collapsed": true
   },
   "outputs": [],
   "source": [
    "neighborhood = \"Village+of+La+Jolla"
   ]
  },
  {
   "cell_type": "code",
   "execution_count": null,
   "metadata": {
    "collapsed": true
   },
   "outputs": [],
   "source": []
  },
  {
   "cell_type": "code",
   "execution_count": null,
   "metadata": {
    "collapsed": true
   },
   "outputs": [],
   "source": []
  },
  {
   "cell_type": "code",
   "execution_count": null,
   "metadata": {
    "collapsed": true
   },
   "outputs": [],
   "source": []
  },
  {
   "cell_type": "code",
   "execution_count": null,
   "metadata": {
    "collapsed": true
   },
   "outputs": [],
   "source": [
    "bad_longs = [idx for idx in range(san_diego.shape[0]) if idx not in good_longs]\n",
    "san_diego.iloc[bad_logs]"
   ]
  },
  {
   "cell_type": "code",
   "execution_count": null,
   "metadata": {
    "collapsed": true
   },
   "outputs": [],
   "source": [
    "incorr = san_diego.Neighborhood.loc[san_diego.Neighborhood_Latitude == -1].values.tolist()\n",
    "print(\"There are {} neighborhoods with missing Latitude and Longitude values\".format(len(missing_lat_long)))\n",
    "missing_lat_long"
   ]
  },
  {
   "cell_type": "code",
   "execution_count": null,
   "metadata": {
    "collapsed": true
   },
   "outputs": [],
   "source": []
  },
  {
   "cell_type": "code",
   "execution_count": null,
   "metadata": {
    "collapsed": true
   },
   "outputs": [],
   "source": []
  },
  {
   "cell_type": "code",
   "execution_count": null,
   "metadata": {
    "collapsed": true
   },
   "outputs": [],
   "source": []
  },
  {
   "cell_type": "code",
   "execution_count": null,
   "metadata": {
    "collapsed": true
   },
   "outputs": [],
   "source": []
  }
 ],
 "metadata": {
  "anaconda-cloud": {},
  "kernelspec": {
   "display_name": "Python [default]",
   "language": "python",
   "name": "python3"
  },
  "language_info": {
   "codemirror_mode": {
    "name": "ipython",
    "version": 3
   },
   "file_extension": ".py",
   "mimetype": "text/x-python",
   "name": "python",
   "nbconvert_exporter": "python",
   "pygments_lexer": "ipython3",
   "version": "3.5.6"
  }
 },
 "nbformat": 4,
 "nbformat_minor": 1
}
